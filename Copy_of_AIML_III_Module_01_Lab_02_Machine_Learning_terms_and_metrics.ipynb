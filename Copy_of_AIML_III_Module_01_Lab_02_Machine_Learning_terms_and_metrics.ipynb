{
  "cells": [
    {
      "cell_type": "markdown",
      "metadata": {
        "id": "view-in-github",
        "colab_type": "text"
      },
      "source": [
        "<a href=\"https://colab.research.google.com/github/NeeharikaG18/Project-and-Lab-/blob/main/Copy_of_AIML_III_Module_01_Lab_02_Machine_Learning_terms_and_metrics.ipynb\" target=\"_parent\"><img src=\"https://colab.research.google.com/assets/colab-badge.svg\" alt=\"Open In Colab\"/></a>"
      ]
    },
    {
      "cell_type": "markdown",
      "metadata": {
        "id": "3Eu9VZbF01eq"
      },
      "source": [
        "# Machine Learning terms and metrics\n",
        "\n",
        "Module 1, Lab 2\n",
        "\n",
        "In this lab, we will show a part of the ML pipeline by using the California Housing dataset. There are 20640 samples, each with 8 attributes like income of the block, age of the houses per district etc. The task is to predict the cost of the houses per district. We will use the scikit-learn library to load the data and perform some basic data preprocessing and model training. We will also show how to evaluate the model using some common metrics, split the data into training and testing sets, and use cross-validation to get a better estimate of the model's performance."
      ]
    },
    {
      "cell_type": "code",
      "execution_count": null,
      "metadata": {
        "id": "8qBvyEem0vLi"
      },
      "outputs": [],
      "source": [
        "import numpy as np\n",
        "from sklearn import datasets\n",
        "import matplotlib.pyplot as plt\n",
        "\n",
        "rng = np.random.default_rng(seed=42)"
      ]
    },
    {
      "cell_type": "code",
      "execution_count": null,
      "metadata": {
        "colab": {
          "base_uri": "https://localhost:8080/"
        },
        "id": "8LpqjN991GGJ",
        "outputId": "675a31d0-cce3-4248-e62d-cb31464d5825"
      },
      "outputs": [
        {
          "output_type": "stream",
          "name": "stdout",
          "text": [
            ".. _california_housing_dataset:\n",
            "\n",
            "California Housing dataset\n",
            "--------------------------\n",
            "\n",
            "**Data Set Characteristics:**\n",
            "\n",
            "    :Number of Instances: 20640\n",
            "\n",
            "    :Number of Attributes: 8 numeric, predictive attributes and the target\n",
            "\n",
            "    :Attribute Information:\n",
            "        - MedInc        median income in block group\n",
            "        - HouseAge      median house age in block group\n",
            "        - AveRooms      average number of rooms per household\n",
            "        - AveBedrms     average number of bedrooms per household\n",
            "        - Population    block group population\n",
            "        - AveOccup      average number of household members\n",
            "        - Latitude      block group latitude\n",
            "        - Longitude     block group longitude\n",
            "\n",
            "    :Missing Attribute Values: None\n",
            "\n",
            "This dataset was obtained from the StatLib repository.\n",
            "https://www.dcc.fc.up.pt/~ltorgo/Regression/cal_housing.html\n",
            "\n",
            "The target variable is the median house value for California districts,\n",
            "expressed in hundreds of thousands of dollars ($100,000).\n",
            "\n",
            "This dataset was derived from the 1990 U.S. census, using one row per census\n",
            "block group. A block group is the smallest geographical unit for which the U.S.\n",
            "Census Bureau publishes sample data (a block group typically has a population\n",
            "of 600 to 3,000 people).\n",
            "\n",
            "A household is a group of people residing within a home. Since the average\n",
            "number of rooms and bedrooms in this dataset are provided per household, these\n",
            "columns may take surprisingly large values for block groups with few households\n",
            "and many empty houses, such as vacation resorts.\n",
            "\n",
            "It can be downloaded/loaded using the\n",
            ":func:`sklearn.datasets.fetch_california_housing` function.\n",
            "\n",
            ".. topic:: References\n",
            "\n",
            "    - Pace, R. Kelley and Ronald Barry, Sparse Spatial Autoregressions,\n",
            "      Statistics and Probability Letters, 33 (1997) 291-297\n",
            "\n"
          ]
        }
      ],
      "source": [
        "import numpy as np\n",
        "from sklearn import datasets\n",
        "dataset = datasets.fetch_california_housing()\n",
        "# Dataset description\n",
        "print(dataset.DESCR)"
      ]
    },
    {
      "cell_type": "markdown",
      "metadata": {
        "id": "PCe1VNftevgE"
      },
      "source": [
        "Given below are the list of target values. These correspond to the house value derived considering all the 8 input features and are continuous values. We should use regression models to predict these values but we will start with a simple classification model for the sake of simplicity. We need to just round off the values to the nearest integer and use a classification model to predict the house value."
      ]
    },
    {
      "cell_type": "code",
      "execution_count": null,
      "metadata": {
        "colab": {
          "base_uri": "https://localhost:8080/"
        },
        "id": "F8K0ggBOevgE",
        "outputId": "700bab9f-b704-41e9-bed1-00a6ab929974"
      },
      "outputs": [
        {
          "output_type": "stream",
          "name": "stdout",
          "text": [
            "Orignal target values: [4.526 3.585 3.521 ... 0.923 0.847 0.894]\n",
            "Target values after conversion: [4 3 3 ... 0 0 0]\n",
            "Input variables shape: (20640, 8)\n",
            "Output variables shape: (20640,)\n"
          ]
        }
      ],
      "source": [
        "print(\"Orignal target values:\", dataset.target)\n",
        "\n",
        "dataset.target = dataset.target.astype(int)\n",
        "\n",
        "print(\"Target values after conversion:\", dataset.target)\n",
        "print(\"Input variables shape:\", dataset.data.shape)\n",
        "print(\"Output variables shape:\", dataset.target.shape)"
      ]
    },
    {
      "cell_type": "markdown",
      "metadata": {
        "id": "iNx4174W5xRg"
      },
      "source": [
        "The simplest model to use for classification is the K-Nearest Neighbors model. We will use this model to predict the house value with a K value of 1. We will also use the accuracy metric to evaluate the model."
      ]
    },
    {
      "cell_type": "code",
      "execution_count": null,
      "metadata": {
        "id": "07zpydQj1hIQ"
      },
      "outputs": [],
      "source": [
        "def NN1(traindata, trainlabel, query):\n",
        "    \"\"\"\n",
        "    This function takes in the training data, training labels and a query point\n",
        "    and returns the predicted label for the query point using the nearest neighbour algorithm\n",
        "\n",
        "    traindata: numpy array of shape (n,d) where n is the number of samples and d is the number of features\n",
        "    trainlabel: numpy array of shape (n,) where n is the number of samples\n",
        "    query: numpy array of shape (d,) where d is the number of features\n",
        "\n",
        "    returns: the predicted label for the query point which is the label of the training data which is closest to the query point\n",
        "    \"\"\"\n",
        "    diff = (\n",
        "        traindata - query\n",
        "    )  # find the difference between features. Numpy automatically takes care of the size here\n",
        "    sq = diff * diff  # square the differences\n",
        "    dist = sq.sum(1)  # add up the squares\n",
        "    label = trainlabel[np.argmin(dist)]\n",
        "    return label\n",
        "\n",
        "\n",
        "def NN(traindata, trainlabel, testdata):\n",
        "    \"\"\"\n",
        "    This function takes in the training data, training labels and test data\n",
        "    and returns the predicted labels for the test data using the nearest neighbour algorithm\n",
        "\n",
        "    traindata: numpy array of shape (n,d) where n is the number of samples and d is the number of features\n",
        "    trainlabel: numpy array of shape (n,) where n is the number of samples\n",
        "    testdata: numpy array of shape (m,d) where m is the number of test samples and d is the number of features\n",
        "\n",
        "    returns: the predicted labels for the test data which is the label of the training data which is closest to each test point\n",
        "    \"\"\"\n",
        "    predlabel = np.array([NN1(traindata, trainlabel, i) for i in testdata])\n",
        "    return predlabel"
      ]
    },
    {
      "cell_type": "markdown",
      "metadata": {
        "id": "03JktkfIGaje"
      },
      "source": [
        "We will also define a 'random classifier', which randomly allots labels to each sample"
      ]
    },
    {
      "cell_type": "code",
      "execution_count": null,
      "metadata": {
        "id": "fogWAtjyGhAH"
      },
      "outputs": [],
      "source": [
        "def RandomClassifier(traindata, trainlabel, testdata):\n",
        "    \"\"\"\n",
        "    This function takes in the training data, training labels and test data\n",
        "    and returns the predicted labels for the test data using the random classifier algorithm\n",
        "\n",
        "    In reality, we don't need these arguments but we are passing them to keep the function signature consistent with other classifiers\n",
        "\n",
        "    traindata: numpy array of shape (n,d) where n is the number of samples and d is the number of features\n",
        "    trainlabel: numpy array of shape (n,) where n is the number of samples\n",
        "    testdata: numpy array of shape (m,d) where m is the number of test samples and d is the number of features\n",
        "\n",
        "    returns: the predicted labels for the test data which is a random label from the training data\n",
        "    \"\"\"\n",
        "\n",
        "    classes = np.unique(trainlabel)\n",
        "    rints = rng.integers(low=0, high=len(classes), size=len(testdata))\n",
        "    predlabel = classes[rints]\n",
        "    return predlabel"
      ]
    },
    {
      "cell_type": "markdown",
      "metadata": {
        "id": "1Hjf1KHs7fU5"
      },
      "source": [
        "We need a metric to evaluate the performance of the model. Let us define a metric 'Accuracy' to see how good our learning algorithm is. Accuracy is the ratio of the number of correctly classified samples to the total number of samples. The higher the accuracy, the better the algorithm. We will use the accuracy metric to evaluate and compate the performance of the K-Nearest Neighbors model and the random classifier."
      ]
    },
    {
      "cell_type": "code",
      "execution_count": null,
      "metadata": {
        "id": "ouuCqWU07bz-"
      },
      "outputs": [],
      "source": [
        "def Accuracy(gtlabel, predlabel):\n",
        "    \"\"\"\n",
        "    This function takes in the ground-truth labels and predicted labels\n",
        "    and returns the accuracy of the classifier\n",
        "\n",
        "    gtlabel: numpy array of shape (n,) where n is the number of samples\n",
        "    predlabel: numpy array of shape (n,) where n is the number of samples\n",
        "\n",
        "    returns: the accuracy of the classifier which is the number of correct predictions divided by the total number of predictions\n",
        "    \"\"\"\n",
        "    assert len(gtlabel) == len(\n",
        "        predlabel\n",
        "    ), \"Length of the ground-truth labels and predicted labels should be the same\"\n",
        "    correct = (\n",
        "        gtlabel == predlabel\n",
        "    ).sum()  # count the number of times the groundtruth label is equal to the predicted label.\n",
        "    return correct / len(gtlabel)"
      ]
    },
    {
      "cell_type": "markdown",
      "metadata": {
        "id": "4vJFwBFa9Klw"
      },
      "source": [
        "Let us make a function to split the dataset with the desired probability. We will use this function to split the dataset into training and testing sets. We will use the training set to train the model and the testing set to evaluate the model."
      ]
    },
    {
      "cell_type": "code",
      "execution_count": null,
      "metadata": {
        "id": "Ko0VzpSM2Tdi"
      },
      "outputs": [],
      "source": [
        "def split(data, label, percent):\n",
        "    # generate a random number for each sample\n",
        "    rnd = rng.random(len(label))\n",
        "    split1 = rnd < percent\n",
        "    split2 = rnd >= percent\n",
        "\n",
        "    split1data = data[split1, :]\n",
        "    split1label = label[split1]\n",
        "    split2data = data[split2, :]\n",
        "    split2label = label[split2]\n",
        "    return split1data, split1label, split2data, split2label"
      ]
    },
    {
      "cell_type": "markdown",
      "metadata": {
        "id": "AcK3LEAJ_LGC"
      },
      "source": [
        "We will reserve 20% of our dataset as the test set. We will not change this portion throughout our experiments"
      ]
    },
    {
      "cell_type": "code",
      "execution_count": null,
      "metadata": {
        "colab": {
          "base_uri": "https://localhost:8080/"
        },
        "id": "bBZkHBLJ1iU-",
        "outputId": "43af63a9-1b70-4f62-aaff-001970bbf700"
      },
      "outputs": [
        {
          "output_type": "stream",
          "name": "stdout",
          "text": [
            "Number of test samples: 4144\n",
            "Number of train samples: 16496\n",
            "Percent of test data: 20.07751937984496 %\n"
          ]
        }
      ],
      "source": [
        "testdata, testlabel, alltraindata, alltrainlabel = split(\n",
        "    dataset.data, dataset.target, 20 / 100\n",
        ")\n",
        "print(\"Number of test samples:\", len(testlabel))\n",
        "print(\"Number of train samples:\", len(alltrainlabel))\n",
        "print(\"Percent of test data:\", len(testlabel) * 100 / len(dataset.target), \"%\")"
      ]
    },
    {
      "cell_type": "markdown",
      "metadata": {
        "id": "a6Ss0Z6IAGNV"
      },
      "source": [
        "## Experiments with splits\n",
        "\n",
        "Let us reserve some of our train data as a validation set"
      ]
    },
    {
      "cell_type": "code",
      "execution_count": null,
      "metadata": {
        "id": "WFew2iry_7W7"
      },
      "outputs": [],
      "source": [
        "traindata, trainlabel, valdata, vallabel = split(\n",
        "    alltraindata, alltrainlabel, 75 / 100)"
      ]
    },
    {
      "cell_type": "markdown",
      "metadata": {
        "id": "60hiu4clFN1i"
      },
      "source": [
        "What is the accuracy of our classifiers on the train dataset?"
      ]
    },
    {
      "cell_type": "code",
      "execution_count": null,
      "metadata": {
        "colab": {
          "base_uri": "https://localhost:8080/"
        },
        "id": "DBlZDTHUFTZx",
        "outputId": "36fc0e96-db7b-42ea-e758-b742b72e49cc"
      },
      "outputs": [
        {
          "output_type": "stream",
          "name": "stdout",
          "text": [
            "Training accuracy using nearest neighbour algorithm: 100.0 %\n",
            "Training accuracy using random classifier:  16.4375808538163 %\n"
          ]
        }
      ],
      "source": [
        "trainpred = NN(traindata, trainlabel, traindata)\n",
        "trainAccuracy = Accuracy(trainlabel, trainpred)\n",
        "print(\"Training accuracy using nearest neighbour algorithm:\", trainAccuracy*100, \"%\")\n",
        "\n",
        "trainpred = RandomClassifier(traindata, trainlabel, traindata)\n",
        "trainAccuracy = Accuracy(trainlabel, trainpred)\n",
        "print(\"Training accuracy using random classifier: \", trainAccuracy*100, \"%\")"
      ]
    },
    {
      "cell_type": "markdown",
      "metadata": {
        "id": "7h08-9gJDtSy"
      },
      "source": [
        "For nearest neighbour, the train accuracy is always 1. The accuracy of the random classifier is close to 1/(number of classes) which is 0.1666 in our case. This is because the random classifier randomly assigns a label to each sample and the probability of assigning the correct label is 1/(number of classes). Let us predict the labels for our validation set and get the accuracy. This accuracy is a good estimate of the accuracy of our model on unseen data."
      ]
    },
    {
      "cell_type": "code",
      "execution_count": null,
      "metadata": {
        "colab": {
          "base_uri": "https://localhost:8080/"
        },
        "id": "4h7bXoW_2H3v",
        "outputId": "1febd982-bba7-4d62-fddc-e31938d3c5a5"
      },
      "outputs": [
        {
          "output_type": "stream",
          "name": "stdout",
          "text": [
            "Validation accuracy using nearest neighbour algorithm: 34.10852713178294 %\n",
            "Validation accuracy using random classifier: 16.884689922480618 %\n"
          ]
        }
      ],
      "source": [
        "valpred = NN(traindata, trainlabel, valdata)\n",
        "valAccuracy = Accuracy(vallabel, valpred)\n",
        "print(\"Validation accuracy using nearest neighbour algorithm:\", valAccuracy*100, \"%\")\n",
        "\n",
        "\n",
        "valpred = RandomClassifier(traindata, trainlabel, valdata)\n",
        "valAccuracy = Accuracy(vallabel, valpred)\n",
        "print(\"Validation accuracy using random classifier:\", valAccuracy*100, \"%\")"
      ]
    },
    {
      "cell_type": "markdown",
      "metadata": {
        "id": "py9bLguFEjfg"
      },
      "source": [
        "Validation accuracy of nearest neighbour is considerably less than its train accuracy while the validation accuracy of random classifier is the same. However, the validation accuracy of nearest neighbour is twice that of the random classifier. Now let us try another random split and check the validation accuracy. We will see that the validation accuracy changes with the split. This is because the validation set is small and the accuracy is highly dependent on the samples in the validation set. We can get a better estimate of the accuracy by using cross-validation."
      ]
    },
    {
      "cell_type": "code",
      "execution_count": null,
      "metadata": {
        "colab": {
          "base_uri": "https://localhost:8080/"
        },
        "id": "ujm3cyYzEntE",
        "outputId": "8a5e87d5-aae2-49f0-90bf-883fef618edd"
      },
      "outputs": [
        {
          "output_type": "stream",
          "name": "stdout",
          "text": [
            "Validation accuracy using nearest neighbour algorithm: 33.925097276264594 %\n"
          ]
        }
      ],
      "source": [
        "traindata, trainlabel, valdata, vallabel = split(\n",
        "    alltraindata, alltrainlabel, 75 / 100)\n",
        "valpred = NN(traindata, trainlabel, valdata)\n",
        "valAccuracy = Accuracy(vallabel, valpred)\n",
        "print(\"Validation accuracy using nearest neighbour algorithm:\", valAccuracy*100, \"%\")"
      ]
    },
    {
      "cell_type": "markdown",
      "metadata": {
        "id": "oSOx7U83EKie"
      },
      "source": [
        "You can run the above cell multiple times to try with different random splits.\n",
        "We notice that the accuracy is different for each run, but close together.\n",
        "\n",
        "Now let us compare it with the accuracy we get on the test dataset."
      ]
    },
    {
      "cell_type": "code",
      "execution_count": null,
      "metadata": {
        "colab": {
          "base_uri": "https://localhost:8080/"
        },
        "id": "PNEZ5ToYBEDW",
        "outputId": "288730a8-dafe-4fd3-92ee-aa395fdc9918"
      },
      "outputs": [
        {
          "output_type": "stream",
          "name": "stdout",
          "text": [
            "Test accuracy: 34.91795366795367 %\n"
          ]
        }
      ],
      "source": [
        "testpred = NN(alltraindata, alltrainlabel, testdata)\n",
        "testAccuracy = Accuracy(testlabel, testpred)\n",
        "\n",
        "print(\"Test accuracy:\", testAccuracy*100, \"%\")"
      ]
    },
    {
      "cell_type": "markdown",
      "metadata": {
        "id": "w3dGD531K3gH"
      },
      "source": [
        "### Try it out for yourself and answer:\n",
        "1. How is the accuracy of the validation set affected if we increase the percentage of validation set? What happens when we reduce it?\n",
        "2. How does the size of the train and validation set affect how well we can predict the accuracy on the test set using the validation set?\n",
        "3. What do you think is a good percentage to reserve for the validation set so that thest two factors are balanced?\n",
        "\n",
        "Answer for both nearest neighbour and random classifier. You can note down the values for your experiments and plot a graph using  <a href=https://matplotlib.org/stable/gallery/lines_bars_and_markers/step_demo.html#sphx-glr-gallery-lines-bars-and-markers-step-demo-py>plt.plot<href>. Check also for extreme values for splits, like 99.9% or 0.1%"
      ]
    },
    {
      "cell_type": "markdown",
      "source": [
        "1. Effect on Validation Accuracy:\n",
        "\n",
        "    Generally, increasing the percentage of the validation set means fewer samples are available for training. This can lead to:\n",
        "        Decreased Training Accuracy: With fewer samples for training, the model might not fit the training data as well, potentially reducing training accuracy.\n",
        "        Increased Validation Accuracy Variability: A larger validation set could lead to more variability in validation accuracy because it has fewer samples to generalize from, potentially making the validation accuracy less stable.\n",
        "      If we decrease the percentage of the validation set (e.g., from 25% to 20% or less):\n",
        "\n",
        "    Effect on Validation Accuracy:\n",
        "        Decreasing the percentage of the validation set means more samples are available for training. This can lead to:\n",
        "            Increased Training Accuracy: With more samples for training, the model might fit the training data better, potentially increasing training accuracy.\n",
        "            Decreased Variability in Validation Accuracy: A smaller validation set might lead to less variability in validation accuracy because it has more samples to generalize from, potentially making the validation accuracy more stable.\n",
        "\n",
        "    Nearest Neighbor Classifier:\n",
        "\n",
        "    Validation accuracy tends to decrease as the percentage of the validation set increases. This is because with more data allocated to validation, there are fewer samples for training, which can lead to overfitting on the training set and reduced generalization.\n",
        "    Validation accuracy is higher initially and decreases more steeply with larger validation sets.\n",
        "\n",
        "    Random Classifier:\n",
        "\n",
        "    Validation accuracy remains relatively stable across different percentages of the validation set. This is expected because the random classifier assigns labels randomly, and the accuracy is not heavily influenced by the size of the validation set."
      ],
      "metadata": {
        "id": "sVJ4_0OsNNzj"
      }
    },
    {
      "cell_type": "code",
      "source": [
        "import numpy as np\n",
        "import matplotlib.pyplot as plt\n",
        "\n",
        "# Functions for nearest neighbor and random classifier\n",
        "def NN1(traindata, trainlabel, query):\n",
        "    diff = traindata - query\n",
        "    sq = diff * diff\n",
        "    dist = sq.sum(1)\n",
        "    label = trainlabel[np.argmin(dist)]\n",
        "    return label\n",
        "\n",
        "def NN(traindata, trainlabel, testdata):\n",
        "    predlabel = np.array([NN1(traindata, trainlabel, i) for i in testdata])\n",
        "    return predlabel\n",
        "\n",
        "def RandomClassifier(traindata, trainlabel, testdata):\n",
        "    classes = np.unique(trainlabel)\n",
        "    rints = np.random.randint(low=0, high=len(classes), size=len(testdata))\n",
        "    predlabel = classes[rints]\n",
        "    return predlabel\n",
        "\n",
        "def Accuracy(gtlabel, predlabel):\n",
        "    assert len(gtlabel) == len(predlabel), \"Lengths of ground-truth and predicted labels should be the same\"\n",
        "    correct = np.sum(gtlabel == predlabel)\n",
        "    return correct / len(gtlabel)\n",
        "\n",
        "# Function to split data\n",
        "def split(data, label, percent):\n",
        "    rnd = np.random.random(len(label))\n",
        "    split1 = rnd < percent\n",
        "    split2 = rnd >= percent\n",
        "\n",
        "    split1data = data[split1, :]\n",
        "    split1label = label[split1]\n",
        "    split2data = data[split2, :]\n",
        "    split2label = label[split2]\n",
        "    return split1data, split1label, split2data, split2label\n",
        "\n",
        "# Load the dataset and split into training and testing sets\n",
        "from sklearn.datasets import fetch_california_housing\n",
        "\n",
        "dataset = fetch_california_housing()\n",
        "data = dataset.data\n",
        "target = dataset.target.astype(int)\n",
        "\n",
        "# Split into training and testing (80% training, 20% testing)\n",
        "testdata, testlabel, alltraindata, alltrainlabel = split(data, target, 20 / 100)\n",
        "\n",
        "# Experiment with different validation set percentages\n",
        "validation_percentages = np.arange(10, 91, 5) / 100  # from 10% to 90% in steps of 5%\n",
        "nn_validation_accuracies = []\n",
        "random_validation_accuracies = []\n",
        "\n",
        "for val_percentage in validation_percentages:\n",
        "    # Split training data into training and validation\n",
        "    traindata, trainlabel, valdata, vallabel = split(alltraindata, alltrainlabel, val_percentage)\n",
        "\n",
        "    # Calculate validation accuracy for nearest neighbor\n",
        "    valpred_nn = NN(traindata, trainlabel, valdata)\n",
        "    valAccuracy_nn = Accuracy(vallabel, valpred_nn)\n",
        "    nn_validation_accuracies.append(valAccuracy_nn * 100)\n",
        "\n",
        "    # Calculate validation accuracy for random classifier\n",
        "    valpred_random = RandomClassifier(traindata, trainlabel, valdata)\n",
        "    valAccuracy_random = Accuracy(vallabel, valpred_random)\n",
        "    random_validation_accuracies.append(valAccuracy_random * 100)\n",
        "\n",
        "# Plotting the results\n",
        "plt.figure(figsize=(10, 6))\n",
        "plt.plot(validation_percentages * 100, nn_validation_accuracies, marker='o', linestyle='-', color='b', label='Nearest Neighbor')\n",
        "plt.plot(validation_percentages * 100, random_validation_accuracies, marker='o', linestyle='-', color='r', label='Random Classifier')\n",
        "plt.title('Validation Accuracy vs. Validation Set Percentage')\n",
        "plt.xlabel('Percentage of Validation Set')\n",
        "plt.ylabel('Validation Accuracy (%)')\n",
        "plt.xticks(np.arange(10, 91, 10))\n",
        "plt.grid(True)\n",
        "plt.legend()\n",
        "plt.tight_layout()\n",
        "plt.show()\n"
      ],
      "metadata": {
        "id": "a8wGphE3NGoa"
      },
      "execution_count": null,
      "outputs": []
    },
    {
      "cell_type": "markdown",
      "source": [
        "2.\n",
        "Training Set Size Impact:\n",
        "\n",
        "    More Training Data:\n",
        "         With a larger training set, the model has more data to learn from, potentially leading to better generalization and higher accuracy on both the training and validation sets.\n",
        "    Less Training Data:\n",
        "\n",
        "        Limited training data can lead to overfitting, where the model memorizes the training examples rather than learning to generalize.\n",
        " Validation Set Size Impact:\n",
        "\n",
        "    Larger Validation Set:\n",
        "        A larger validation set provides a more reliable estimate of how well the model will generalize to unseen data. It reduces variability in validation accuracy estimates and helps in detecting overfitting.   \n",
        "    Smaller Validation Set:\n",
        "\n",
        "     A smaller validation set may not accurately represent the variability in real-world data. It can lead to higher variability in validation accuracy estimates and less confidence in predicting test set performance.    \n",
        "\n",
        "  Generally, validation accuracy tends to increase with a larger training set. This is because more training data helps in learning better models that generalize well to the validation set.\n",
        "  Nearest neighbor tends to show higher validation accuracy initially but may flatten out or decrease slightly with very large training sets, indicating potential overfitting.\n",
        "  Random classifier validation accuracy remains relatively stable across different training set sizes.   \n",
        "  Nearest neighbor tends to show higher test accuracy compared to the random classifier, reflecting its ability to learn and generalize patterns better.\n",
        "  The size of the training and validation sets directly impacts our ability to predict accuracy on the test set:\n",
        "   A larger training set generally leads to better model performance and higher validation accuracy, which translates into higher test accuracy.  "
      ],
      "metadata": {
        "id": "CX2XGav1PVNd"
      }
    },
    {
      "cell_type": "code",
      "source": [
        "import numpy as np\n",
        "import matplotlib.pyplot as plt\n",
        "\n",
        "# Functions for nearest neighbor and random classifier\n",
        "def NN1(traindata, trainlabel, query):\n",
        "    diff = traindata - query\n",
        "    sq = diff * diff\n",
        "    dist = sq.sum(1)\n",
        "    label = trainlabel[np.argmin(dist)]\n",
        "    return label\n",
        "\n",
        "def NN(traindata, trainlabel, testdata):\n",
        "    predlabel = np.array([NN1(traindata, trainlabel, i) for i in testdata])\n",
        "    return predlabel\n",
        "\n",
        "def RandomClassifier(traindata, trainlabel, testdata):\n",
        "    classes = np.unique(trainlabel)\n",
        "    rints = np.random.randint(low=0, high=len(classes), size=len(testdata))\n",
        "    predlabel = classes[rints]\n",
        "    return predlabel\n",
        "\n",
        "def Accuracy(gtlabel, predlabel):\n",
        "    assert len(gtlabel) == len(predlabel), \"Lengths of ground-truth and predicted labels should be the same\"\n",
        "    correct = np.sum(gtlabel == predlabel)\n",
        "    return correct / len(gtlabel)\n",
        "\n",
        "# Function to split data\n",
        "def split(data, label, percent):\n",
        "    rnd = np.random.random(len(label))\n",
        "    split1 = rnd < percent\n",
        "    split2 = rnd >= percent\n",
        "\n",
        "    split1data = data[split1, :]\n",
        "    split1label = label[split1]\n",
        "    split2data = data[split2, :]\n",
        "    split2label = label[split2]\n",
        "    return split1data, split1label, split2data, split2label\n",
        "\n",
        "# Load the dataset and split into training and testing sets\n",
        "from sklearn.datasets import fetch_california_housing\n",
        "\n",
        "dataset = fetch_california_housing()\n",
        "data = dataset.data\n",
        "target = dataset.target.astype(int)\n",
        "\n",
        "# Experiment with different percentages of the training set (from 10% to 90%)\n",
        "train_percentages = np.arange(10, 91, 5) / 100  # from 10% to 90% in steps of 5%\n",
        "nn_validation_accuracies = []\n",
        "random_validation_accuracies = []\n",
        "test_accuracy_nn = []\n",
        "test_accuracy_random = []\n",
        "\n",
        "for train_percent in train_percentages:\n",
        "    # Split into training and testing (fixed 20% test set)\n",
        "    testdata, testlabel, alltraindata, alltrainlabel = split(data, target, 20 / 100)\n",
        "\n",
        "    # Split training data further into training and validation\n",
        "    traindata, trainlabel, valdata, vallabel = split(alltraindata, alltrainlabel, train_percent)\n",
        "\n",
        "    # Calculate validation accuracy for nearest neighbor\n",
        "    valpred_nn = NN(traindata, trainlabel, valdata)\n",
        "    valAccuracy_nn = Accuracy(vallabel, valpred_nn)\n",
        "    nn_validation_accuracies.append(valAccuracy_nn * 100)\n",
        "\n",
        "    # Calculate validation accuracy for random classifier\n",
        "    valpred_random = RandomClassifier(traindata, trainlabel, valdata)\n",
        "    valAccuracy_random = Accuracy(vallabel, valpred_random)\n",
        "    random_validation_accuracies.append(valAccuracy_random * 100)\n",
        "\n",
        "    # Train on the full training set and evaluate on test set\n",
        "    traindata_full = np.concatenate((traindata, valdata), axis=0)\n",
        "    trainlabel_full = np.concatenate((trainlabel, vallabel), axis=0)\n",
        "\n",
        "    # Nearest neighbor classifier test accuracy\n",
        "    testpred_nn = NN(traindata_full, trainlabel_full, testdata)\n",
        "    testAccuracy_nn = Accuracy(testlabel, testpred_nn)\n",
        "    test_accuracy_nn.append(testAccuracy_nn * 100)\n",
        "\n",
        "    # Random classifier test accuracy\n",
        "    testpred_random = RandomClassifier(traindata_full, trainlabel_full, testdata)\n",
        "    testAccuracy_random = Accuracy(testlabel, testpred_random)\n",
        "    test_accuracy_random.append(testAccuracy_random * 100)\n",
        "\n",
        "# Plotting the results\n",
        "plt.figure(figsize=(12, 6))\n",
        "\n",
        "# Plot Validation Accuracy vs. Training Set Percentage\n",
        "plt.subplot(1, 2, 1)\n",
        "plt.plot(train_percentages * 100, nn_validation_accuracies, marker='o', linestyle='-', color='b', label='Nearest Neighbor')\n",
        "plt.plot(train_percentages * 100, random_validation_accuracies, marker='o', linestyle='-', color='r', label='Random Classifier')\n",
        "plt.title('Validation Accuracy vs. Training Set Percentage')\n",
        "plt.xlabel('Percentage of Training Set')\n",
        "plt.ylabel('Validation Accuracy (%)')\n",
        "plt.xticks(np.arange(10, 91, 10))\n",
        "plt.grid(True)\n",
        "plt.legend()\n",
        "\n",
        "# Plot Test Accuracy vs. Training Set Percentage\n",
        "plt.subplot(1, 2, 2)\n",
        "plt.plot(train_percentages * 100, test_accuracy_nn, marker='o', linestyle='-', color='b', label='Nearest Neighbor')\n",
        "plt.plot(train_percentages * 100, test_accuracy_random, marker='o', linestyle='-', color='r', label='Random Classifier')\n",
        "plt.title('Test Accuracy vs. Training Set Percentage')\n",
        "plt.xlabel('Percentage of Training Set')\n",
        "plt.ylabel('Test Accuracy (%)')\n",
        "plt.xticks(np.arange(10, 91, 10))\n",
        "plt.grid(True)\n",
        "plt.legend()\n",
        "\n",
        "plt.tight_layout()\n",
        "plt.show()\n"
      ],
      "metadata": {
        "id": "5jpaJgRAPQAK"
      },
      "execution_count": null,
      "outputs": []
    },
    {
      "cell_type": "markdown",
      "source": [
        "3.Choosing a good percentage for the validation set is crucial to strike a balance between effectively training the model and reliably estimating its performance on unseen data.\n",
        "Desired Accuracy Estimation:\n",
        "\n",
        "  A larger validation set provides a more reliable estimate of the model's performance on unseen data. If precise estimation of test accuracy is critical, a larger validation set percentage (e.g., 20-30%) is advisable.\n",
        "\n",
        "  Larger datasets can afford larger validation sets without sacrificing too much training data. For smaller datasets, a larger validation set might not leave enough data for training, leading to poorer model performance.\n",
        "\n",
        "\n",
        "25-30%: These percentages can be chosen if more confidence in the validation accuracy estimate is desired. They provide more data for validation, which can help reduce variability in performance estimates and better capture the model's generalization ability.\n",
        "Based on the experiment results, a validation set percentage around 20-30% appears reasonable for balancing effective model training with reliable estimation of model performance.\n",
        "Smaller datasets or more complex models might benefit from slightly larger validation sets, while larger datasets with simpler models might suffice with smaller validation sets."
      ],
      "metadata": {
        "id": "bPTflKOdSCQB"
      }
    },
    {
      "cell_type": "code",
      "source": [
        "import numpy as np\n",
        "import matplotlib.pyplot as plt\n",
        "\n",
        "# Functions for nearest neighbor and random classifier\n",
        "def NN1(traindata, trainlabel, query):\n",
        "    diff = traindata - query\n",
        "    sq = diff * diff\n",
        "    dist = sq.sum(1)\n",
        "    label = trainlabel[np.argmin(dist)]\n",
        "    return label\n",
        "\n",
        "def NN(traindata, trainlabel, testdata):\n",
        "    predlabel = np.array([NN1(traindata, trainlabel, i) for i in testdata])\n",
        "    return predlabel\n",
        "\n",
        "def RandomClassifier(traindata, trainlabel, testdata):\n",
        "    classes = np.unique(trainlabel)\n",
        "    rints = np.random.randint(low=0, high=len(classes), size=len(testdata))\n",
        "    predlabel = classes[rints]\n",
        "    return predlabel\n",
        "\n",
        "def Accuracy(gtlabel, predlabel):\n",
        "    assert len(gtlabel) == len(predlabel), \"Lengths of ground-truth and predicted labels should be the same\"\n",
        "    correct = np.sum(gtlabel == predlabel)\n",
        "    return correct / len(gtlabel)\n",
        "\n",
        "# Function to split data\n",
        "def split(data, label, percent):\n",
        "    rnd = np.random.random(len(label))\n",
        "    split1 = rnd < percent\n",
        "    split2 = rnd >= percent\n",
        "\n",
        "    split1data = data[split1, :]\n",
        "    split1label = label[split1]\n",
        "    split2data = data[split2, :]\n",
        "    split2label = label[split2]\n",
        "    return split1data, split1label, split2data, split2label\n",
        "\n",
        "# Load the dataset and split into training and testing sets\n",
        "from sklearn.datasets import fetch_california_housing\n",
        "\n",
        "dataset = fetch_california_housing()\n",
        "data = dataset.data\n",
        "target = dataset.target.astype(int)\n",
        "\n",
        "# Fixed 20% test set\n",
        "testdata, testlabel, alltraindata, alltrainlabel = split(data, target, 20 / 100)\n",
        "\n",
        "# Experiment with different percentages of the validation set\n",
        "val_percentages = np.concatenate(([0.1, 1, 5, 10], np.arange(20, 101, 10))) / 100  # from 0.1% to 100% in steps of 10%\n",
        "nn_validation_accuracies = []\n",
        "random_validation_accuracies = []\n",
        "\n",
        "for val_percent in val_percentages:\n",
        "    # Split the training set into training and validation sets\n",
        "    traindata, trainlabel, valdata, vallabel = split(alltraindata, alltrainlabel, (100 - val_percent) / 100)\n",
        "\n",
        "    # Calculate validation accuracy for nearest neighbor\n",
        "    valpred_nn = NN(traindata, trainlabel, valdata)\n",
        "    valAccuracy_nn = Accuracy(vallabel, valpred_nn)\n",
        "    nn_validation_accuracies.append(valAccuracy_nn * 100)\n",
        "\n",
        "    # Calculate validation accuracy for random classifier\n",
        "    valpred_random = RandomClassifier(traindata, trainlabel, valdata)\n",
        "    valAccuracy_random = Accuracy(vallabel, valpred_random)\n",
        "    random_validation_accuracies.append(valAccuracy_random * 100)\n",
        "\n",
        "# Plotting the results\n",
        "plt.figure(figsize=(10, 6))\n",
        "\n",
        "# Plot Validation Accuracy vs. Validation Set Percentage\n",
        "plt.plot(val_percentages * 100, nn_validation_accuracies, marker='o', linestyle='-', color='b', label='Nearest Neighbor')\n",
        "plt.plot(val_percentages * 100, random_validation_accuracies, marker='o', linestyle='-', color='r', label='Random Classifier')\n",
        "plt.title('Validation Accuracy vs. Validation Set Percentage')\n",
        "plt.xlabel('Percentage of Validation Set')\n",
        "plt.ylabel('Validation Accuracy (%)')\n",
        "plt.grid(True)\n",
        "plt.legend()\n",
        "plt.xticks(np.arange(0, 101, 10))\n",
        "plt.tight_layout()\n",
        "plt.show()\n"
      ],
      "metadata": {
        "id": "cZCyUbsaR_06"
      },
      "execution_count": null,
      "outputs": []
    },
    {
      "cell_type": "markdown",
      "metadata": {
        "id": "M9zvdYY6evgI"
      },
      "source": [
        "> Exercise: Try to implement a 3 nearest neighbour classifier and compare the accuracy of the 1 nearest neighbour classifier and the 3 nearest neighbour classifier on the test dataset. You can use the KNeighborsClassifier class from the scikit-learn library to implement the K-Nearest Neighbors model. You can set the number of neighbors using the n_neighbors parameter. You can also use the accuracy_score function from the scikit-learn library to calculate the accuracy of the model."
      ]
    },
    {
      "cell_type": "code",
      "source": [
        "import numpy as np\n",
        "import matplotlib.pyplot as plt\n",
        "from sklearn.datasets import fetch_california_housing\n",
        "from sklearn.model_selection import train_test_split\n",
        "from sklearn.neighbors import KNeighborsClassifier\n",
        "from sklearn.metrics import accuracy_score\n",
        "\n",
        "# Load the dataset\n",
        "dataset = fetch_california_housing()\n",
        "data = dataset.data\n",
        "target = dataset.target.astype(int)\n",
        "\n",
        "# Split the data into training and testing sets\n",
        "X_train, X_test, y_train, y_test = train_test_split(data, target, test_size=0.2, random_state=42)\n",
        "\n",
        "# Create KNN classifiers with n_neighbors = 1 and n_neighbors = 3\n",
        "knn1 = KNeighborsClassifier(n_neighbors=1)\n",
        "knn3 = KNeighborsClassifier(n_neighbors=3)\n",
        "\n",
        "# Train the models\n",
        "knn1.fit(X_train, y_train)\n",
        "knn3.fit(X_train, y_train)\n",
        "\n",
        "# Predict on the test set\n",
        "y_pred_knn1 = knn1.predict(X_test)\n",
        "y_pred_knn3 = knn3.predict(X_test)\n",
        "\n",
        "# Calculate accuracy scores\n",
        "accuracy_knn1 = accuracy_score(y_test, y_pred_knn1)\n",
        "accuracy_knn3 = accuracy_score(y_test, y_pred_knn3)\n",
        "\n",
        "print(f\"Accuracy of KNN with 1 neighbor: {accuracy_knn1:.4f}\")\n",
        "print(f\"Accuracy of KNN with 3 neighbors: {accuracy_knn3:.4f}\")\n"
      ],
      "metadata": {
        "id": "KWxX6RsgTwev"
      },
      "execution_count": null,
      "outputs": []
    },
    {
      "cell_type": "markdown",
      "metadata": {
        "id": "PnYvkAZLQY7h"
      },
      "source": [
        "## Multiple Splits\n",
        "\n",
        "One way to get more accurate estimates for the test accuracy is by using <b>cross-validation</b>. Here, we will try a simple version, where we do multiple train/val splits and take the average of validation accuracies as the test accuracy estimation. Here is a function for doing this. Note that this function will take a long time to execute. You can reduce the number of splits to make it faster."
      ]
    },
    {
      "cell_type": "code",
      "execution_count": null,
      "metadata": {
        "id": "E4nGCUQXBTzo"
      },
      "outputs": [],
      "source": [
        "def AverageAccuracy(alldata, alllabel, splitpercent, iterations, classifier=NN):\n",
        "    \"\"\"\n",
        "    This function takes in the data, labels, split percentage, number of iterations and classifier function\n",
        "    and returns the average accuracy of the classifier\n",
        "\n",
        "    alldata: numpy array of shape (n,d) where n is the number of samples and d is the number of features\n",
        "    alllabel: numpy array of shape (n,) where n is the number of samples\n",
        "    splitpercent: float which is the percentage of data to be used for training\n",
        "    iterations: int which is the number of iterations to run the classifier\n",
        "    classifier: function which is the classifier function to be used\n",
        "\n",
        "    returns: the average accuracy of the classifier\n",
        "    \"\"\"\n",
        "    accuracy = 0\n",
        "    for ii in range(iterations):\n",
        "        traindata, trainlabel, valdata, vallabel = split(\n",
        "            alldata, alllabel, splitpercent\n",
        "        )\n",
        "        valpred = classifier(traindata, trainlabel, valdata)\n",
        "        accuracy += Accuracy(vallabel, valpred)\n",
        "    return accuracy / iterations  # average of all accuracies"
      ]
    },
    {
      "cell_type": "code",
      "execution_count": null,
      "metadata": {
        "colab": {
          "base_uri": "https://localhost:8080/"
        },
        "id": "H3qtNar7Bbik",
        "outputId": "34cc0b87-1028-481f-c97e-d6205e0e8556"
      },
      "outputs": [
        {
          "output_type": "stream",
          "name": "stdout",
          "text": [
            "Average validation accuracy: 33.58463539517022 %\n",
            "Test accuracy: 34.91795366795367 %\n"
          ]
        }
      ],
      "source": [
        "avg_acc = AverageAccuracy(alltraindata, alltrainlabel, 75 / 100, 10, classifier=NN)\n",
        "print(\"Average validation accuracy:\", avg_acc*100, \"%\")\n",
        "testpred = NN(alltraindata, alltrainlabel, testdata)\n",
        "\n",
        "print(\"Test accuracy:\", Accuracy(testlabel, testpred)*100, \"%\")"
      ]
    },
    {
      "cell_type": "markdown",
      "metadata": {
        "id": "33GIn4x5VH-d"
      },
      "source": [
        "This is a very simple way of doing cross-validation. There are many well-known algorithms for cross-validation, like k-fold cross-validation, leave-one-out etc. This will be covered in detail in a later module. For more information about cross-validation, check <a href=https://en.wikipedia.org/wiki/Cross-validation_(statistics)>Cross-validatioin (Wikipedia)</a>\n",
        "\n",
        "### Questions\n",
        "1. Does averaging the validation accuracy across multiple splits give more consistent results?\n",
        "2. Does it give more accurate estimate of test accuracy?\n",
        "3. What is the effect of the number of iterations on the estimate? Do we get a better estimate with higher iterations?\n",
        "4. Consider the results you got for the previous questions. Can we deal with a very small train dataset or validation dataset by increasing the iterations?\n"
      ]
    },
    {
      "cell_type": "markdown",
      "source": [
        "1. Averaging validation accuracy across multiple splits in cross-validation provides more stable and reliable results compared to a single train-test split. By evaluating the model on different subsets of the training data, it reduces variability and ensures a more accurate estimate of how well the model will perform on unseen data. This approach helps in detecting overfitting and provides a consistent measure of the model's generalization capability, enhancing confidence in its performance evaluation and suitability for real-world applications.\n",
        "\n",
        "\n",
        "2.Averaging validation accuracy across multiple splits in cross-validation offers a more accurate estimate of test accuracy compared to a single train-test split. By evaluating the model on various subsets of the training data, cross-validation reduces bias and provides a robust measure of how well the model generalizes to unseen data. This approach enhances stability by smoothing out variability across different splits, ensuring a reliable assessment of the model's performance and supporting confident decisions in model selection and deployment.\n",
        "\n",
        "\n",
        "3.Increasing the number of iterations in cross-validation generally leads to a more accurate estimate of test accuracy. More iterations provide a broader range of training-validation splits, reducing the impact of random chance in any single split. This results in a more stable and reliable assessment of how well the model will perform on unseen data, enhancing confidence in its generalization capability. However, while higher iterations improve accuracy estimation, they also increase computational demands. Therefore, the number of iterations chosen balances the need for accuracy with practical considerations of time and resources in model evaluation.\n",
        "\n",
        "\n",
        "4.Increasing the number of iterations in cross-validation helps mitigate the challenges posed by very small training or validation datasets. By repeatedly splitting the data into different train-validation subsets, cross-validation reduces the impact of dataset size limitations on model evaluation. This approach enhances the reliability of performance metrics by averaging results across multiple splits, providing a more accurate estimate of how well the model will generalize to new, unseen data. However, while higher iterations improve accuracy estimation and robustness, they also increase computational demands. Therefore, the number of iterations chosen should strike a balance between achieving reliable results and practical considerations of time and resources.\n"
      ],
      "metadata": {
        "id": "eiXmOepFU839"
      }
    },
    {
      "cell_type": "markdown",
      "metadata": {
        "id": "z-SBxy1qevgJ"
      },
      "source": [
        "> Exercise: How does the accuracy of the 3 nearest neighbour classifier change with the number of splits? How is it affected by the split size? Compare the results with the 1 nearest neighbour classifier."
      ]
    },
    {
      "cell_type": "markdown",
      "source": [
        "The accuracy of the 3 nearest neighbor (3-NN) classifier generally becomes more stable and reliable as the number of splits in cross-validation increases\n",
        "Effect of Number of Splits:\n",
        "\n",
        "  3-NN Classifier: With more splits in cross-validation, the accuracy estimate for the 3-NN classifier tends to converge to a more consistent value. This is because averaging over multiple splits reduces the variability caused by different training-validation data combinations.\n",
        "  1-NN Classifier: Similarly, the accuracy of the 1-NN classifier also stabilizes with more splits, providing a more reliable estimate of its performance on unseen data. However, the accuracy might fluctuate more compared to the 3-NN classifier due to its sensitivity to individual data points.\n",
        "  Effect of Split Size:\n",
        "\n",
        "  3-NN Classifier: The split size (percentage of data used for training vs. validation) affects how well the 3-NN classifier generalizes. Larger training sets can potentially improve accuracy by providing more representative training data, while smaller validation sets might lead to overfitting or underfitting issues.\n",
        " 1-NN Classifier: Similarly, the split size influences the accuracy of the 1-NN classifier. It performs well with smaller training sets due to its reliance on nearest neighbors but might benefit from larger training sets to capture more diverse patterns in the data.\n",
        "\n",
        " the 3-NN classifier tends to have higher accuracy compared to the 1-NN classifier because it considers more neighbors for classification, which can reduce the impact of noisy data points. The accuracy comparison between the two classifiers can vary based on dataset characteristics, split sizes, and the number of cross-validation iterations."
      ],
      "metadata": {
        "id": "qwQajI4TWjG0"
      }
    }
  ],
  "metadata": {
    "colab": {
      "provenance": [],
      "include_colab_link": true
    },
    "kernelspec": {
      "display_name": "Python 3",
      "name": "python3"
    },
    "language_info": {
      "codemirror_mode": {
        "name": "ipython",
        "version": 3
      },
      "file_extension": ".py",
      "mimetype": "text/x-python",
      "name": "python",
      "nbconvert_exporter": "python",
      "pygments_lexer": "ipython3",
      "version": "3.10.10"
    }
  },
  "nbformat": 4,
  "nbformat_minor": 0
}