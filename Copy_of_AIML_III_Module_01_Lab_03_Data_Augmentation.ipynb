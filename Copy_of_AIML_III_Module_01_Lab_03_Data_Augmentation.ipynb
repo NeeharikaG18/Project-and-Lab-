{
  "cells": [
    {
      "cell_type": "markdown",
      "metadata": {
        "id": "view-in-github",
        "colab_type": "text"
      },
      "source": [
        "<a href=\"https://colab.research.google.com/github/NeeharikaG18/Project-and-Lab-/blob/main/Copy_of_AIML_III_Module_01_Lab_03_Data_Augmentation.ipynb\" target=\"_parent\"><img src=\"https://colab.research.google.com/assets/colab-badge.svg\" alt=\"Open In Colab\"/></a>"
      ]
    },
    {
      "cell_type": "markdown",
      "metadata": {
        "id": "w3yfry25JgZK"
      },
      "source": [
        "# Data Augmentation\n",
        "\n",
        "Module 1, Lab 3\n",
        "\n",
        "In this lab, we will see how augmentation of data samples help in improving the machine learning performance. Augmentation is the process of creating new data samples by making reasonable modifications to the original data samples. This is particularly useful when the size of the training data is small. We will use the MNISt dataset for this lab. We will also reuse functions from the previous labs."
      ]
    },
    {
      "cell_type": "code",
      "execution_count": 1,
      "metadata": {
        "id": "xZU8_elooqP0"
      },
      "outputs": [],
      "source": [
        "import numpy as np\n",
        "import matplotlib.pyplot as plt\n",
        "from keras.datasets import mnist\n",
        "from sklearn.utils.extmath import cartesian\n",
        "from skimage.transform import rotate, AffineTransform, warp\n",
        "\n",
        "rng = np.random.default_rng(seed=42)"
      ]
    },
    {
      "cell_type": "code",
      "execution_count": 2,
      "metadata": {
        "id": "gJvmWJ58ovx5",
        "colab": {
          "base_uri": "https://localhost:8080/"
        },
        "outputId": "e2f70f39-af2a-4d53-ff70-2e12ae365655"
      },
      "outputs": [
        {
          "output_type": "stream",
          "name": "stdout",
          "text": [
            "Downloading data from https://storage.googleapis.com/tensorflow/tf-keras-datasets/mnist.npz\n",
            "11490434/11490434 [==============================] - 0s 0us/step\n"
          ]
        }
      ],
      "source": [
        "# loading the dataset\n",
        "(train_X, train_y), (test_X, test_y) = mnist.load_data()\n",
        "\n",
        "# normalizing the data\n",
        "train_X = train_X / 255\n",
        "test_X = test_X / 255\n",
        "\n",
        "# subsample from images and labels. Otherwise it will take too long!\n",
        "train_X = train_X[::1200, :, :].copy()\n",
        "train_y = train_y[::1200].copy()"
      ]
    },
    {
      "cell_type": "markdown",
      "metadata": {
        "id": "8XamH6z1Rt7S"
      },
      "source": [
        "Let us borrow a few functions from the previous labs:"
      ]
    },
    {
      "cell_type": "code",
      "execution_count": 3,
      "metadata": {
        "id": "Zk2W5_3BRLMS"
      },
      "outputs": [],
      "source": [
        "def NN1(traindata, trainlabel, query):\n",
        "    \"\"\"\n",
        "    This function takes in the training data, training labels and a query point\n",
        "    and returns the predicted label for the query point using the nearest neighbour algorithm\n",
        "\n",
        "    traindata: numpy array of shape (n,d) where n is the number of samples and d is the number of features\n",
        "    trainlabel: numpy array of shape (n,) where n is the number of samples\n",
        "    query: numpy array of shape (d,) where d is the number of features\n",
        "\n",
        "    returns: the predicted label for the query point which is the label of the training data which is closest to the query point\n",
        "    \"\"\"\n",
        "    diff = (\n",
        "        traindata - query\n",
        "    )  # find the difference between features. Numpy automatically takes care of the size here\n",
        "    sq = diff * diff  # square the differences\n",
        "    dist = sq.sum(1)  # add up the squares\n",
        "    label = trainlabel[np.argmin(dist)]\n",
        "    return label\n",
        "\n",
        "\n",
        "def NN(traindata, trainlabel, testdata):\n",
        "    \"\"\"\n",
        "    This function takes in the training data, training labels and test data\n",
        "    and returns the predicted labels for the test data using the nearest neighbour algorithm\n",
        "\n",
        "    traindata: numpy array of shape (n,d) where n is the number of samples and d is the number of features\n",
        "    trainlabel: numpy array of shape (n,) where n is the number of samples\n",
        "    testdata: numpy array of shape (m,d) where m is the number of test samples and d is the number of features\n",
        "\n",
        "    returns: the predicted labels for the test data which is the label of the training data which is closest to each test point\n",
        "    \"\"\"\n",
        "    traindata = traindata.reshape(-1, 28*28)\n",
        "    testdata = testdata.reshape(-1, 28*28)\n",
        "    predlabel = np.array([NN1(traindata, trainlabel, i) for i in testdata])\n",
        "    return predlabel\n",
        "\n",
        "\n",
        "def Accuracy(gtlabel, predlabel):\n",
        "    \"\"\"\n",
        "    This function takes in the ground-truth labels and predicted labels\n",
        "    and returns the accuracy of the classifier\n",
        "\n",
        "    gtlabel: numpy array of shape (n,) where n is the number of samples\n",
        "    predlabel: numpy array of shape (n,) where n is the number of samples\n",
        "\n",
        "    returns: the accuracy of the classifier which is the number of correct predictions divided by the total number of predictions\n",
        "    \"\"\"\n",
        "    assert len(gtlabel) == len(\n",
        "        predlabel\n",
        "    ), \"Length of the ground-truth labels and predicted labels should be the same\"\n",
        "    correct = (\n",
        "        gtlabel == predlabel\n",
        "    ).sum()  # count the number of times the groundtruth label is equal to the predicted label.\n",
        "    return correct / len(gtlabel)"
      ]
    },
    {
      "cell_type": "markdown",
      "metadata": {
        "id": "eGiA3LmDSJZo"
      },
      "source": [
        "In this lab, we will use the image pixels themselves as features, instead of extracting features. Each image has 28*28 pixels, so we will flatten them to 784 pixels to use as features. Note that this is very compute intensive and will take a long time. Let us first check the baseline accuracy on the test set without any augmentations. We hope that adding augmentations will help us to get better results."
      ]
    },
    {
      "cell_type": "code",
      "execution_count": 4,
      "metadata": {
        "colab": {
          "base_uri": "https://localhost:8080/"
        },
        "id": "4tQvnoasRNEV",
        "outputId": "558595c6-5026-493b-ee98-154de50df345"
      },
      "outputs": [
        {
          "output_type": "stream",
          "name": "stdout",
          "text": [
            "Baseline accuracy without augmentation: 64.72 %\n"
          ]
        }
      ],
      "source": [
        "testpred = NN(train_X, train_y, test_X)\n",
        "print(\"Baseline accuracy without augmentation:\",\n",
        "      Accuracy(test_y, testpred)*100, \"%\")"
      ]
    },
    {
      "cell_type": "markdown",
      "metadata": {
        "id": "ZfkcMfhIZQ7U"
      },
      "source": [
        "Let us try to improve this accuracy using augmentations. When we create augmentations, we have to make sure that the changes reflect what will naturally occur in the dataset. For example, we should not add colour to our samples as an augmentation because they do not naturally occur. We should not also flip the images in MNIST, because flipped images have different meanings for digits. So, we will use the following augmentations:\n",
        "\n",
        "### Augmentation 1: Rotation\n",
        "\n",
        "Let us try rotating the image a little. We will use the `rotate` function from the `skimage` module. We will rotate the image by 10 degrees and -10 degrees. Rotation is a reasonable augmentation because the digit will still be recognizable even after rotation and is representative of the dataset."
      ]
    },
    {
      "cell_type": "code",
      "execution_count": 5,
      "metadata": {
        "colab": {
          "base_uri": "https://localhost:8080/",
          "height": 318
        },
        "id": "z5WolJ9fZE7L",
        "outputId": "baa4a6f5-ecf3-44b3-9426-75abcff51575"
      },
      "outputs": [
        {
          "output_type": "display_data",
          "data": {
            "text/plain": [
              "<Figure size 1500x500 with 3 Axes>"
            ],
            "image/png": "[encoded data removed]"
          },
          "metadata": {}
        }
      ],
      "source": [
        "fig, axs = plt.subplots(1, 3, figsize=(15, 5))\n",
        "\n",
        "axs[0].imshow(train_X[2], cmap=\"gray\")\n",
        "axs[0].set_title(\"Original Image\")\n",
        "\n",
        "axs[1].imshow(rotate(train_X[2], 10), cmap=\"gray\")\n",
        "axs[1].set_title(\"Rotate +10 degrees\")\n",
        "\n",
        "axs[2].imshow(rotate(train_X[2], -10), cmap=\"gray\")\n",
        "axs[2].set_title(\"Rotate -10 degrees\")\n",
        "\n",
        "plt.show()"
      ]
    },
    {
      "cell_type": "markdown",
      "metadata": {
        "id": "KE33Yxgggu0c"
      },
      "source": [
        "After rotating, the the class of the image is still the same. Let us make a function to rotate multiple images by random angles. We want a slightly different image every time we run this function. So, we generate a random number between 0 and 1 and change it so that it lies between -constraint/2 and +constraint/2"
      ]
    },
    {
      "cell_type": "code",
      "execution_count": 6,
      "metadata": {
        "id": "vyM7pUV7Reze"
      },
      "outputs": [],
      "source": [
        "def augRotate(sample, angleconstraint):\n",
        "    \"\"\"\n",
        "    This function takes in a sample and an angle constraint and returns the augmented sample\n",
        "    by rotating the sample by a random angle within the angle constraint\n",
        "\n",
        "    sample: numpy array of shape (n,d) where n is the number of samples and d is the number of features\n",
        "    angleconstraint: the maximum angle by which the sample can be rotated\n",
        "\n",
        "    returns: the augmented sample which is the input sample rotated by a random angle within the angle constraint\n",
        "    \"\"\"\n",
        "    if angleconstraint == 0:\n",
        "        return sample\n",
        "    if len(sample.shape) == 2:\n",
        "        # make sure the sample is 3 dimensional\n",
        "        sample = np.expand_dims(sample, 0)\n",
        "    angle = rng.random(len(sample))  # generate random numbers for angles\n",
        "    # make the random angle constrained\n",
        "    angle = (angle - 0.5) * angleconstraint\n",
        "    nsample = sample.copy()  # preallocate the augmented array to make it faster\n",
        "    for ii in range(len(sample)):\n",
        "        nsample[ii] = rotate(sample[ii], angle[ii])\n",
        "    return np.squeeze(nsample)  # take care if the input had only one sample."
      ]
    },
    {
      "cell_type": "markdown",
      "metadata": {
        "id": "kDk-N5VNjar9"
      },
      "source": [
        "This function returns a slightly different image each time we call it. So we can increase the number of images in the sample by any multiple."
      ]
    },
    {
      "cell_type": "code",
      "execution_count": 7,
      "metadata": {
        "colab": {
          "base_uri": "https://localhost:8080/",
          "height": 213
        },
        "id": "Vw3O9zGFgI8K",
        "outputId": "9c4ff73d-ee8b-423c-974a-cc5ff18c24e7"
      },
      "outputs": [
        {
          "output_type": "display_data",
          "data": {
            "text/plain": [
              "<Figure size 1500x500 with 5 Axes>"
            ],
            "image/png": "[encoded data removed]"
          },
          "metadata": {}
        }
      ],
      "source": [
        "sample = train_X[20]\n",
        "angleconstraint = 70\n",
        "\n",
        "fig, axs = plt.subplots(1, 5, figsize=(15, 5))\n",
        "\n",
        "axs[0].imshow(sample, cmap=\"gray\")\n",
        "axs[0].set_title(\"Original Image\")\n",
        "\n",
        "axs[1].imshow(augRotate(sample, angleconstraint), cmap=\"gray\")\n",
        "axs[1].set_title(\"Aug. Sample 1\")\n",
        "\n",
        "axs[2].imshow(augRotate(sample, angleconstraint), cmap=\"gray\")\n",
        "axs[2].set_title(\"Aug. Sample 2\")\n",
        "\n",
        "axs[3].imshow(augRotate(sample, angleconstraint), cmap=\"gray\")\n",
        "axs[3].set_title(\"Aug. Sample 3\")\n",
        "\n",
        "axs[4].imshow(augRotate(sample, angleconstraint), cmap=\"gray\")\n",
        "axs[4].set_title(\"Aug. Sample 4\")\n",
        "\n",
        "plt.show()"
      ]
    },
    {
      "cell_type": "markdown",
      "metadata": {
        "id": "ytv3NxF-kgxN"
      },
      "source": [
        "Let us augment the whole dataset and see if this improves the test accuracy"
      ]
    },
    {
      "cell_type": "code",
      "execution_count": 8,
      "metadata": {
        "colab": {
          "base_uri": "https://localhost:8080/"
        },
        "id": "iNzNAoDBkRzj",
        "outputId": "909d29e9-9c94-497e-e06c-54dc7771a07f"
      },
      "outputs": [
        {
          "output_type": "stream",
          "name": "stdout",
          "text": [
            "Accuracy after rotation augmentation: 67.66 %\n"
          ]
        }
      ],
      "source": [
        "# hyperparameters\n",
        "angleconstraint = 60\n",
        "naugmentations = 5\n",
        "\n",
        "# augment\n",
        "augdata = train_X  # we include the original images also in the augmented dataset\n",
        "auglabel = train_y\n",
        "for ii in range(naugmentations):\n",
        "    augdata = np.concatenate(\n",
        "        (augdata, augRotate(train_X, angleconstraint))\n",
        "    )  # concatenate the augmented data to the set\n",
        "    auglabel = np.concatenate(\n",
        "        (auglabel, train_y)\n",
        "    )  # the labels don't change when we augment\n",
        "\n",
        "# check the test accuracy\n",
        "testpred = NN(augdata, auglabel, test_X)\n",
        "print(\"Accuracy after rotation augmentation:\", Accuracy(test_y, testpred)*100, \"%\")"
      ]
    },
    {
      "cell_type": "markdown",
      "metadata": {
        "id": "E88Nt9s1p5R6"
      },
      "source": [
        "We can notice a 3-4% improvement compared to non-augmented version of the dataset!\n",
        "\n",
        "The angle constraint is a hyperparameter which we have to tune using a validation set. (Here we are not doing that for time constraints). Let us try a grid search to find the best angle constraint. We will try angles between 0 and 90 degrees. We can also try different multiples of the original dataset. We will use the best hyperparameters to train the model and check the accuracy on the test set."
      ]
    },
    {
      "cell_type": "code",
      "execution_count": 9,
      "metadata": {
        "colab": {
          "base_uri": "https://localhost:8080/"
        },
        "id": "aiaFRLREmGp6",
        "outputId": "98766e71-c843-43b0-905d-ca36a4ae6312"
      },
      "outputs": [
        {
          "output_type": "stream",
          "name": "stdout",
          "text": [
            "Accuracy after rotation augmentation constrained by 0 degrees is 64.72 %\n",
            "Accuracy after rotation augmentation constrained by 10 degrees is 66.79 %\n",
            "Accuracy after rotation augmentation constrained by 20 degrees is 67.84 %\n",
            "Accuracy after rotation augmentation constrained by 30 degrees is 68.47 %\n",
            "Accuracy after rotation augmentation constrained by 40 degrees is 67.63 %\n",
            "Accuracy after rotation augmentation constrained by 50 degrees is 67.65 %\n",
            "Accuracy after rotation augmentation constrained by 60 degrees is 65.3 %\n",
            "Accuracy after rotation augmentation constrained by 70 degrees is 66.06 %\n",
            "Accuracy after rotation augmentation constrained by 80 degrees is 64.61 %\n",
            "Accuracy after rotation augmentation constrained by 90 degrees is 64.31 %\n"
          ]
        }
      ],
      "source": [
        "angleconstraints = [0, 10, 20, 30, 40, 50, 60, 70, 80, 90]  # the values we want to test\n",
        "accuracies = np.zeros(\n",
        "    len(angleconstraints), dtype=float\n",
        ")  # we will save the values here\n",
        "\n",
        "for ii in range(len(angleconstraints)):\n",
        "    # create the augmented dataset\n",
        "    augdata = train_X  # we include the original images also in the augmented dataset\n",
        "    auglabel = train_y\n",
        "    for jj in range(naugmentations):\n",
        "        augdata = np.concatenate(\n",
        "            (augdata, augRotate(train_X, angleconstraints[ii]))\n",
        "        )  # concatenate the augmented data to the set\n",
        "        auglabel = np.concatenate(\n",
        "            (auglabel, train_y)\n",
        "        )  # the labels don't change when we augment\n",
        "\n",
        "    # check the test accuracy\n",
        "    testpred = NN(augdata, auglabel, test_X)\n",
        "    accuracies[ii] = Accuracy(test_y, testpred)\n",
        "    print(\n",
        "        \"Accuracy after rotation augmentation constrained by\",\n",
        "        angleconstraints[ii],\n",
        "        \"degrees is\",\n",
        "        accuracies[ii]*100,\n",
        "        \"%\",\n",
        "        flush=True,\n",
        "    )"
      ]
    },
    {
      "cell_type": "markdown",
      "metadata": {
        "id": "2oVDRYP2rxob"
      },
      "source": [
        "Let us see the best value for angle constraint: (Ideally this should be done on validation set, not test set)"
      ]
    },
    {
      "cell_type": "code",
      "execution_count": 10,
      "metadata": {
        "colab": {
          "base_uri": "https://localhost:8080/",
          "height": 482
        },
        "id": "LqthJa_pmMHz",
        "outputId": "d3185877-4f45-4463-e503-58831d021912"
      },
      "outputs": [
        {
          "output_type": "execute_result",
          "data": {
            "text/plain": [
              "<matplotlib.collections.PathCollection at 0x79a6e0b7e170>"
            ]
          },
          "metadata": {},
          "execution_count": 10
        },
        {
          "output_type": "display_data",
          "data": {
            "text/plain": [
              "<Figure size 640x480 with 1 Axes>"
            ],
            "image/png": "[encoded data removed]"
          },
          "metadata": {}
        }
      ],
      "source": [
        "fig = plt.figure()\n",
        "ax = fig.add_axes([0.1, 0.1, 0.8, 0.8])\n",
        "# plot the variation of accuracy\n",
        "ax.plot(angleconstraints, accuracies)\n",
        "ax.set_xlabel(\"angle\")\n",
        "ax.set_ylabel(\"accuracy\")\n",
        "\n",
        "# plot the maximum accuracy\n",
        "maxind = np.argmax(accuracies)\n",
        "plt.scatter(angleconstraints[maxind], accuracies[maxind], c=\"red\")"
      ]
    },
    {
      "cell_type": "markdown",
      "metadata": {
        "id": "eJ8YuVfCuGTj"
      },
      "source": [
        "### Augmentation 2: Shear\n",
        "\n",
        "\n",
        "Let us try one more augmentation: shear. Shear is the transformation of an image in which the x-coordinate of all points is shifted by an amount proportional to the y-coordinate of the point. We will use the `AffineTransform` function from the `skimage` module to shear the image by a small amount between two numbers. We will use the same naive grid search method to find the best hyperparameters for shear. We will use the best hyperparameters to train the model and check the accuracy on the test set."
      ]
    },
    {
      "cell_type": "code",
      "execution_count": 11,
      "metadata": {
        "id": "pMiw46NLwssK"
      },
      "outputs": [],
      "source": [
        "def shear(sample, amount):\n",
        "    \"\"\"\n",
        "    This function takes in a sample and an amount and returns the augmented sample\n",
        "    by shearing the sample by the given amount\n",
        "\n",
        "    sample: numpy array of shape (n,d) where n is the number of samples and d is the number of features\n",
        "    amount: the amount by which the sample should be sheared\n",
        "\n",
        "    returns: the augmented sample which is the input sample sheared by the given amount\n",
        "    \"\"\"\n",
        "    tform = AffineTransform(shear=amount)\n",
        "    img = warp(sample, tform)\n",
        "\n",
        "    # Applying shear makes the digit off-center\n",
        "    # Since all images are centralized, we will do the same here\n",
        "    col = img.sum(0).nonzero()[0]\n",
        "    row = img.sum(1).nonzero()[0]\n",
        "    if len(col) > 0 and len(row) > 0:\n",
        "        xshift = int(sample.shape[0] / 2 - (row[0] + row[-1]) / 2)\n",
        "        yshift = int(sample.shape[1] / 2 - (col[0] + col[-1]) / 2)\n",
        "        img = np.roll(img, (xshift, yshift), (0, 1))\n",
        "    return img"
      ]
    },
    {
      "cell_type": "code",
      "execution_count": 12,
      "metadata": {
        "colab": {
          "base_uri": "https://localhost:8080/",
          "height": 252
        },
        "id": "4_u_EYpmnABK",
        "outputId": "49fec9ff-d2ef-423f-a89c-356d705edf90"
      },
      "outputs": [
        {
          "output_type": "display_data",
          "data": {
            "text/plain": [
              "<Figure size 1500x500 with 4 Axes>"
            ],
            "image/png": "[encoded data removed]"
          },
          "metadata": {}
        }
      ],
      "source": [
        "sample = train_X[2]\n",
        "fig, axs = plt.subplots(1, 4, figsize=(15, 5))\n",
        "\n",
        "axs[0].imshow(sample, cmap=\"gray\")\n",
        "axs[0].set_title(\"Original Image\")\n",
        "\n",
        "axs[1].imshow(shear(sample, 0.2), cmap=\"gray\")\n",
        "axs[1].set_title(\"Amount = 0.2\")\n",
        "\n",
        "axs[2].imshow(shear(sample, 0.4), cmap=\"gray\")\n",
        "axs[2].set_title(\"Amount = 0.4\")\n",
        "\n",
        "axs[3].imshow(shear(sample, 0.6), cmap=\"gray\")\n",
        "axs[3].set_title(\"Amount = 0.6\")\n",
        "\n",
        "plt.show()"
      ]
    },
    {
      "cell_type": "markdown",
      "metadata": {
        "id": "lGnWMoyM2pK4"
      },
      "source": [
        "Create an augmentation function which applies a random shear according to the constraint we provide:"
      ]
    },
    {
      "cell_type": "code",
      "execution_count": 13,
      "metadata": {
        "id": "-qLDJyGytwP5"
      },
      "outputs": [],
      "source": [
        "def augShear(sample, shearconstraint):\n",
        "    \"\"\"\n",
        "    This function takes in a sample and a shear constraint and returns the augmented sample\n",
        "    by shearing the sample by a random amount within the shear constraint\n",
        "\n",
        "    sample: numpy array of shape (n,d) where n is the number of samples and d is the number of features\n",
        "    shearconstraint: the maximum shear by which the sample can be sheared\n",
        "\n",
        "    returns: the augmented sample which is the input sample sheared by a random amount within the shear constraint\n",
        "    \"\"\"\n",
        "    if shearconstraint == 0:\n",
        "        return sample\n",
        "    if len(sample.shape) == 2:\n",
        "        # make sure the sample is 3 dimensional\n",
        "        sample = np.expand_dims(sample, 0)\n",
        "    amt = rng.random(len(sample))  # generate random numbers for shear\n",
        "    amt = (amt - 0.5) * shearconstraint  # make the random shear constrained\n",
        "    nsample = sample.copy()  # preallocate the augmented array to make it faster\n",
        "    for ii in range(len(sample)):\n",
        "        nsample[ii] = shear(sample[ii], amt[ii])\n",
        "    return np.squeeze(nsample)  # take care if the input had only one sample."
      ]
    },
    {
      "cell_type": "markdown",
      "metadata": {
        "id": "s6lQcWW93suJ"
      },
      "source": [
        "Let us do a grid search to find the best shear constraint."
      ]
    },
    {
      "cell_type": "code",
      "execution_count": 14,
      "metadata": {
        "colab": {
          "base_uri": "https://localhost:8080/"
        },
        "id": "l_wrqPkrzBb_",
        "outputId": "d2a9387e-25dd-45df-a7a9-debb345cd7d3"
      },
      "outputs": [
        {
          "output_type": "stream",
          "name": "stdout",
          "text": [
            "Accuracy after shear augmentation constrained by 0 is 64.72 %\n",
            "Accuracy after shear augmentation constrained by 0.2 is 61.95 %\n",
            "Accuracy after shear augmentation constrained by 0.4 is 63.07000000000001 %\n",
            "Accuracy after shear augmentation constrained by 0.6 is 64.25 %\n",
            "Accuracy after shear augmentation constrained by 0.8 is 65.42 %\n",
            "Accuracy after shear augmentation constrained by 1.0 is 64.92999999999999 %\n",
            "Accuracy after shear augmentation constrained by 1.2 is 63.82 %\n",
            "Accuracy after shear augmentation constrained by 1.4 is 62.839999999999996 %\n",
            "Accuracy after shear augmentation constrained by 1.6 is 60.14000000000001 %\n",
            "Accuracy after shear augmentation constrained by 1.8 is 61.29 %\n",
            "Accuracy after shear augmentation constrained by 2.0 is 64.46 %\n"
          ]
        }
      ],
      "source": [
        "shearconstraints = [\n",
        "    0,\n",
        "    0.2,\n",
        "    0.4,\n",
        "    0.6,\n",
        "    0.8,\n",
        "    1.0,\n",
        "    1.2,\n",
        "    1.4,\n",
        "    1.6,\n",
        "    1.8,\n",
        "    2.0,\n",
        "]  # the values we want to test\n",
        "accuracies = np.zeros(\n",
        "    len(shearconstraints), dtype=float\n",
        ")  # we will save the values here\n",
        "\n",
        "for ii in range(len(shearconstraints)):\n",
        "    # create the augmented dataset\n",
        "    augdata = train_X  # we include the original images also in the augmented dataset\n",
        "    auglabel = train_y\n",
        "    for jj in range(naugmentations):\n",
        "        augdata = np.concatenate(\n",
        "            (augdata, augShear(train_X, shearconstraints[ii]))\n",
        "        )  # concatenate the augmented data to the set\n",
        "        auglabel = np.concatenate(\n",
        "            (auglabel, train_y)\n",
        "        )  # the labels don't change when we augment\n",
        "\n",
        "    # check the test accuracy\n",
        "    testpred = NN(augdata, auglabel, test_X)\n",
        "    accuracies[ii] = Accuracy(test_y, testpred)\n",
        "    print(\n",
        "        \"Accuracy after shear augmentation constrained by\",\n",
        "        shearconstraints[ii],\n",
        "        \"is\",\n",
        "        accuracies[ii]*100,\n",
        "        \"%\",\n",
        "        flush=True,\n",
        "    )"
      ]
    },
    {
      "cell_type": "code",
      "execution_count": 15,
      "metadata": {
        "colab": {
          "base_uri": "https://localhost:8080/",
          "height": 482
        },
        "id": "EKaH-YR-zVnA",
        "outputId": "44dc2abf-01b5-4ddc-c957-90d1d74ae7d3"
      },
      "outputs": [
        {
          "output_type": "execute_result",
          "data": {
            "text/plain": [
              "<matplotlib.collections.PathCollection at 0x79a6e09d6bc0>"
            ]
          },
          "metadata": {},
          "execution_count": 15
        },
        {
          "output_type": "display_data",
          "data": {
            "text/plain": [
              "<Figure size 640x480 with 1 Axes>"
            ],
            "image/png": "[encoded data removed]"
          },
          "metadata": {}
        }
      ],
      "source": [
        "fig = plt.figure()\n",
        "ax = fig.add_axes([0.1, 0.1, 0.8, 0.8])\n",
        "# plot the variation of accuracy\n",
        "ax.plot(shearconstraints, accuracies)\n",
        "ax.set_xlabel(\"angle\")\n",
        "ax.set_ylabel(\"accuracy\")\n",
        "\n",
        "# plot the maximum accuracy\n",
        "maxind = np.argmax(accuracies)\n",
        "plt.scatter(shearconstraints[maxind], accuracies[maxind], c=\"red\")"
      ]
    },
    {
      "cell_type": "markdown",
      "metadata": {
        "id": "ccfdbRcQ7Zgg"
      },
      "source": [
        "### Augmentation 3: Rotation + Shear\n",
        "\n",
        "\n",
        "\n",
        "We can do multiple augmentations at the same time. Here is a function to do both shear and rotation to the sample. In this case, we will have two hyperparameters."
      ]
    },
    {
      "cell_type": "code",
      "execution_count": 16,
      "metadata": {
        "id": "sh8S_Pxa0XCv"
      },
      "outputs": [],
      "source": [
        "def augRotateShear(sample, angleconstraint, shearconstraint):\n",
        "    \"\"\"\n",
        "    This function takes in a sample, an angle constraint and a shear constraint and returns the augmented sample\n",
        "    by rotating the sample by a random angle within the angle constraint and shearing the sample by a random amount within the shear constraint\n",
        "\n",
        "    sample: numpy array of shape (n,d) where n is the number of samples and d is the number of features\n",
        "    angleconstraint: the maximum angle by which the sample can be rotated\n",
        "    shearconstraint: the maximum shear by which the sample can be sheared\n",
        "\n",
        "    returns: the augmented sample which is the input sample rotated by a random angle within the angle constraint and sheared by a random amount within the shear constraint\n",
        "    \"\"\"\n",
        "    if len(sample.shape) == 2:\n",
        "        # make sure the sample is 3 dimensional\n",
        "        sample = np.expand_dims(sample, 0)\n",
        "    amt = rng.random(len(sample))  # generate random numbers for shear\n",
        "    amt = (amt - 0.5) * shearconstraint  # make the random shear constrained\n",
        "    angle = rng.random(len(sample))  # generate random numbers for angles\n",
        "    # make the random angle constrained\n",
        "    angle = (angle - 0.5) * angleconstraint\n",
        "    nsample = sample.copy()  # preallocate the augmented array to make it faster\n",
        "    for ii in range(len(sample)):\n",
        "        nsample[ii] = rotate(\n",
        "            shear(sample[ii], amt[ii]), angle[ii]\n",
        "        )  # first apply shear, then rotate\n",
        "    return np.squeeze(nsample)  # take care if the input had only one sample."
      ]
    },
    {
      "cell_type": "markdown",
      "metadata": {
        "id": "OGKyjjNx-NQ4"
      },
      "source": [
        "Since we have two hyperparameters, we have to do the grid search on a 2 dimensional matrix. We can use our previous experience to inform where to search for the best hyperparameters."
      ]
    },
    {
      "cell_type": "code",
      "execution_count": 17,
      "metadata": {
        "colab": {
          "base_uri": "https://localhost:8080/"
        },
        "id": "TJC45WRg0pOP",
        "outputId": "642fd5dc-ede7-4e85-b5af-d87c47ecdfa8"
      },
      "outputs": [
        {
          "output_type": "stream",
          "name": "stdout",
          "text": [
            "Accuracy after augmentation shear: 0.0 angle: 0.0 is 63.32 %\n",
            "Accuracy after augmentation shear: 0.0 angle: 10.0 is 59.419999999999995 %\n",
            "Accuracy after augmentation shear: 0.0 angle: 20.0 is 58.19 %\n",
            "Accuracy after augmentation shear: 0.0 angle: 30.0 is 62.35000000000001 %\n",
            "Accuracy after augmentation shear: 0.0 angle: 40.0 is 60.89 %\n",
            "Accuracy after augmentation shear: 0.0 angle: 50.0 is 57.620000000000005 %\n",
            "Accuracy after augmentation shear: 0.0 angle: 60.0 is 60.629999999999995 %\n",
            "Accuracy after augmentation shear: 0.2 angle: 0.0 is 63.41 %\n",
            "Accuracy after augmentation shear: 0.2 angle: 10.0 is 59.419999999999995 %\n",
            "Accuracy after augmentation shear: 0.2 angle: 20.0 is 59.19 %\n",
            "Accuracy after augmentation shear: 0.2 angle: 30.0 is 58.209999999999994 %\n",
            "Accuracy after augmentation shear: 0.2 angle: 40.0 is 61.12 %\n",
            "Accuracy after augmentation shear: 0.2 angle: 50.0 is 58.209999999999994 %\n",
            "Accuracy after augmentation shear: 0.2 angle: 60.0 is 60.91 %\n",
            "Accuracy after augmentation shear: 0.4 angle: 0.0 is 63.370000000000005 %\n",
            "Accuracy after augmentation shear: 0.4 angle: 10.0 is 61.160000000000004 %\n",
            "Accuracy after augmentation shear: 0.4 angle: 20.0 is 58.01 %\n",
            "Accuracy after augmentation shear: 0.4 angle: 30.0 is 57.53 %\n",
            "Accuracy after augmentation shear: 0.4 angle: 40.0 is 60.86 %\n",
            "Accuracy after augmentation shear: 0.4 angle: 50.0 is 58.67 %\n",
            "Accuracy after augmentation shear: 0.4 angle: 60.0 is 59.08 %\n",
            "Accuracy after augmentation shear: 0.6 angle: 0.0 is 63.3 %\n",
            "Accuracy after augmentation shear: 0.6 angle: 10.0 is 60.27 %\n",
            "Accuracy after augmentation shear: 0.6 angle: 20.0 is 62.39 %\n",
            "Accuracy after augmentation shear: 0.6 angle: 30.0 is 59.37 %\n",
            "Accuracy after augmentation shear: 0.6 angle: 40.0 is 60.040000000000006 %\n",
            "Accuracy after augmentation shear: 0.6 angle: 50.0 is 60.31999999999999 %\n",
            "Accuracy after augmentation shear: 0.6 angle: 60.0 is 62.019999999999996 %\n",
            "Accuracy after augmentation shear: 0.8 angle: 0.0 is 63.4 %\n",
            "Accuracy after augmentation shear: 0.8 angle: 10.0 is 60.23 %\n",
            "Accuracy after augmentation shear: 0.8 angle: 20.0 is 59.919999999999995 %\n",
            "Accuracy after augmentation shear: 0.8 angle: 30.0 is 58.85 %\n",
            "Accuracy after augmentation shear: 0.8 angle: 40.0 is 59.89 %\n",
            "Accuracy after augmentation shear: 0.8 angle: 50.0 is 60.129999999999995 %\n",
            "Accuracy after augmentation shear: 0.8 angle: 60.0 is 62.050000000000004 %\n",
            "Accuracy after augmentation shear: 1.0 angle: 0.0 is 63.36000000000001 %\n",
            "Accuracy after augmentation shear: 1.0 angle: 10.0 is 61.08 %\n",
            "Accuracy after augmentation shear: 1.0 angle: 20.0 is 58.919999999999995 %\n",
            "Accuracy after augmentation shear: 1.0 angle: 30.0 is 60.56 %\n",
            "Accuracy after augmentation shear: 1.0 angle: 40.0 is 59.13 %\n",
            "Accuracy after augmentation shear: 1.0 angle: 50.0 is 58.91 %\n",
            "Accuracy after augmentation shear: 1.0 angle: 60.0 is 59.489999999999995 %\n",
            "Accuracy after augmentation shear: 1.2 angle: 0.0 is 63.480000000000004 %\n",
            "Accuracy after augmentation shear: 1.2 angle: 10.0 is 56.97 %\n",
            "Accuracy after augmentation shear: 1.2 angle: 20.0 is 60.709999999999994 %\n",
            "Accuracy after augmentation shear: 1.2 angle: 30.0 is 59.489999999999995 %\n",
            "Accuracy after augmentation shear: 1.2 angle: 40.0 is 58.79 %\n",
            "Accuracy after augmentation shear: 1.2 angle: 50.0 is 60.07 %\n",
            "Accuracy after augmentation shear: 1.2 angle: 60.0 is 61.160000000000004 %\n",
            "Accuracy after augmentation shear: 1.4 angle: 0.0 is 63.57000000000001 %\n",
            "Accuracy after augmentation shear: 1.4 angle: 10.0 is 59.95 %\n",
            "Accuracy after augmentation shear: 1.4 angle: 20.0 is 59.550000000000004 %\n",
            "Accuracy after augmentation shear: 1.4 angle: 30.0 is 60.06 %\n",
            "Accuracy after augmentation shear: 1.4 angle: 40.0 is 60.08 %\n",
            "Accuracy after augmentation shear: 1.4 angle: 50.0 is 60.39 %\n",
            "Accuracy after augmentation shear: 1.4 angle: 60.0 is 59.489999999999995 %\n",
            "Accuracy after augmentation shear: 1.6 angle: 0.0 is 63.32 %\n",
            "Accuracy after augmentation shear: 1.6 angle: 10.0 is 59.12 %\n",
            "Accuracy after augmentation shear: 1.6 angle: 20.0 is 59.8 %\n",
            "Accuracy after augmentation shear: 1.6 angle: 30.0 is 58.08 %\n",
            "Accuracy after augmentation shear: 1.6 angle: 40.0 is 61.73 %\n",
            "Accuracy after augmentation shear: 1.6 angle: 50.0 is 59.489999999999995 %\n",
            "Accuracy after augmentation shear: 1.6 angle: 60.0 is 60.309999999999995 %\n"
          ]
        }
      ],
      "source": [
        "shearconstraints = [\n",
        "    0,\n",
        "    0.2,\n",
        "    0.4,\n",
        "    0.6,\n",
        "    0.8,\n",
        "    1.0,\n",
        "    1.2,\n",
        "    1.4,\n",
        "    1.6,\n",
        "]  # the values we want to test\n",
        "angleconstraints = [0, 10, 20, 30, 40, 50, 60]  # the values we want to test\n",
        "# cartesian product of both\n",
        "hyp = cartesian((shearconstraints, angleconstraints))\n",
        "\n",
        "accuracies = np.zeros(len(hyp), dtype=float)  # we will save the values here\n",
        "\n",
        "for ii in range(len(hyp)):\n",
        "    # create the augmented dataset\n",
        "    augdata = train_X  # we include the original images also in the augmented dataset\n",
        "    auglabel = train_y\n",
        "    for jj in range(naugmentations):\n",
        "        augdata = np.concatenate(\n",
        "            (augdata, augRotateShear(train_X, hyp[ii][0], hyp[ii][1]))\n",
        "        )  # concatenate the augmented data to the set\n",
        "        auglabel = np.concatenate(\n",
        "            (auglabel, train_y)\n",
        "        )  # the labels don't change when we augment\n",
        "\n",
        "    # check the test accuracy\n",
        "    testpred = NN(augdata, auglabel, test_X)\n",
        "    accuracies[ii] = Accuracy(test_y, testpred)\n",
        "    print(\n",
        "        \"Accuracy after augmentation shear:\",\n",
        "        hyp[ii][0],\n",
        "        \"angle:\",\n",
        "        hyp[ii][1],\n",
        "        \"is\",\n",
        "        accuracies[ii]*100,\n",
        "        \"%\",\n",
        "        flush=True,\n",
        "    )"
      ]
    },
    {
      "cell_type": "markdown",
      "metadata": {
        "id": "PT6CnvSDEX7a"
      },
      "source": [
        "Let us plot it two dimensionally to see which is the best value for the hyperparameters:"
      ]
    },
    {
      "cell_type": "code",
      "execution_count": 18,
      "metadata": {
        "colab": {
          "base_uri": "https://localhost:8080/",
          "height": 482
        },
        "id": "jD2i7msI_cLd",
        "outputId": "b0735c11-af2d-43d9-c5cf-ab79196de572"
      },
      "outputs": [
        {
          "output_type": "execute_result",
          "data": {
            "text/plain": [
              "<matplotlib.colorbar.Colorbar at 0x79a6e08ab430>"
            ]
          },
          "metadata": {},
          "execution_count": 18
        },
        {
          "output_type": "display_data",
          "data": {
            "text/plain": [
              "<Figure size 640x480 with 2 Axes>"
            ],
            "image/png": "[encoded data removed]"
          },
          "metadata": {}
        }
      ],
      "source": [
        "fig = plt.figure()\n",
        "ax = fig.add_axes([0.1, 0.1, 0.8, 0.8])\n",
        "im = ax.imshow(\n",
        "    accuracies.reshape((len(shearconstraints), len(angleconstraints))), cmap=\"hot\"\n",
        ")\n",
        "ax.set_xlabel(\"Angle\")\n",
        "ax.set_ylabel(\"Shear\")\n",
        "ax.set_xticks(np.arange(len(angleconstraints)))\n",
        "ax.set_xticklabels(angleconstraints)\n",
        "ax.set_yticks(np.arange(len(shearconstraints)))\n",
        "ax.set_yticklabels(shearconstraints)\n",
        "plt.colorbar(im)"
      ]
    },
    {
      "cell_type": "markdown",
      "metadata": {
        "id": "OHcZWJiFJDMh"
      },
      "source": [
        "It seems that rotation and shear don't mix! The best accuracy is when rotation is zero."
      ]
    },
    {
      "cell_type": "markdown",
      "metadata": {
        "id": "PAasQo1C3x4A"
      },
      "source": [
        "## Questions\n",
        "Try these questions for better understanding. You may not be able to solve all of them.\n",
        "1. What is the best value for angle constraint and shear constraint you got? How much did the accuracy improve as compared to not using augmentations?\n",
        "2. Can you increase the accuracy by increasing the number of augmentations from each sample?\n",
        "3. Try implementing a few augmentations of your own and experimenting with them. A good reference is <a href=https://www.analyticsvidhya.com/blog/2019/12/image-augmentation-deep-learning-pytorch/>here. </a>\n",
        "4. Try combining various augmentations. What is the highest accuracy you can get? What is the smallest training dataset you can take and still get accuracy above 50%?\n",
        "\n",
        "Whenever you do any experiment, a good practice is to vary the hyperparameters gradually and create a graph of your results, like we did for gridsearch."
      ]
    },
    {
      "cell_type": "markdown",
      "source": [
        "1.Best value of Angle Constraint is 0 degrees.The best performance was observed when no rotation was applied.\n",
        "Best value of Shear Constraint is 0.2 (approximately). A small amount of shear (0.2) seemed to provide a slight improvement in accuracy.\n",
        "The best configuration you found involves a very subtle use of shear (around 0.2) and no rotation. This indicates that for the MNIST dataset, maintaining the original orientation of digits while introducing minimal horizontal distortion through shear can enhance model performance.\n",
        "The 3-4% improvement in accuracy demonstrates the effectiveness of augmentations in enhancing model generalization, especially in scenarios where the training dataset is small or lacks diversity.\n",
        "\n",
        "2.Increasing the number of augmentations for each sample can potentially improve accuracy by providing the model with a more diverse training set, thereby enhancing its ability to generalize.\n",
        "\n",
        "3. Noise Addition\n",
        "   Horizontal Flipping are the two augumentations.\n",
        "   "
      ],
      "metadata": {
        "id": "8mDwg5Sm9CAy"
      }
    },
    {
      "cell_type": "code",
      "source": [
        "import numpy as np\n",
        "from skimage.util import random_noise\n",
        "\n",
        "def augNoise(sample, variance=0.01):\n",
        "    \"\"\"\n",
        "    Adds Gaussian noise to the sample.\n",
        "\n",
        "    sample: numpy array of shape (n,d) where n is the number of samples and d is the number of features\n",
        "    variance: variance of the Gaussian noise\n",
        "\n",
        "    returns: the augmented sample with added Gaussian noise\n",
        "    \"\"\"\n",
        "    noisy_sample = random_noise(sample, var=variance**2)\n",
        "    return noisy_sample\n",
        "\n",
        "def augFlipHorizontal(sample):\n",
        "    \"\"\"\n",
        "    Flips the sample horizontally.\n",
        "\n",
        "    sample: numpy array of shape (n,d) where n is the number of samples and d is the number of features\n",
        "\n",
        "    returns: the horizontally flipped sample\n",
        "    \"\"\"\n",
        "    flipped_sample = np.fliplr(sample)\n",
        "    return flipped_sample\n"
      ],
      "metadata": {
        "id": "6cT7t7v-Hger"
      },
      "execution_count": 19,
      "outputs": []
    },
    {
      "cell_type": "code",
      "source": [
        "import matplotlib.pyplot as plt\n",
        "import numpy as np\n",
        "from skimage.transform import rotate, AffineTransform, warp\n",
        "from scipy.ndimage import gaussian_filter\n",
        "from numpy.random import default_rng\n",
        "\n",
        "# Example MNIST digit image\n",
        "sample = train_X[2]\n",
        "\n",
        "# Initialize random number generator\n",
        "rng = default_rng(seed=42)\n",
        "\n",
        "def shear(sample,amount):\n",
        "  tform =AffineTransform(shear=amount)\n",
        "  img = warp(sample,tform)\n",
        "\n",
        "  col = img.sum(0).nonzero()[0]\n",
        "  row = img.sum(1).nonzero()[0]\n",
        "  if len(col) > 0 and len(row) > 0:\n",
        "        xshift = int(sample.shape[0] / 2 - (row[0] + row[-1]) / 2)\n",
        "        yshift = int(sample.shape[1] / 2 - (col[0] + col[-1]) / 2)\n",
        "        img = np.roll(img, (xshift, yshift), (0, 1))\n",
        "  return img\n",
        "\n",
        "def augShear(sample, shearconstraint):\n",
        "    \"\"\"\n",
        "    This function takes in a sample and a shear constraint and returns the augmented sample\n",
        "    by shearing the sample by a random amount within the shear constraint\n",
        "\n",
        "    sample: numpy array of shape (n,d) where n is the number of samples and d is the number of features\n",
        "    shearconstraint: the maximum shear by which the sample can be sheared\n",
        "\n",
        "    returns: the augmented sample which is the input sample sheared by a random amount within the shear constraint\n",
        "    \"\"\"\n",
        "    if shearconstraint == 0:\n",
        "        return sample\n",
        "    if len(sample.shape) == 2:\n",
        "        # make sure the sample is 3 dimensional\n",
        "        sample = np.expand_dims(sample, 0)\n",
        "    amt = rng.random(len(sample))  # generate random numbers for shear\n",
        "    amt = (amt - 0.5) * shearconstraint  # make the random shear constrained\n",
        "    nsample = sample.copy()  # preallocate the augmented array to make it faster\n",
        "    for ii in range(len(sample)):\n",
        "        nsample[ii] = shear(sample[ii], amt[ii])\n",
        "    return np.squeeze(nsample)  # take care if the input had only one sample.\n",
        "\n",
        "\n",
        "\n",
        "# Function for rotating an image by a random angle within an angle constraint\n",
        "def augRotate(sample, angleconstraint):\n",
        "    if angleconstraint == 0:\n",
        "        return sample\n",
        "    if len(sample.shape) == 2:\n",
        "        sample = np.expand_dims(sample, 0)\n",
        "    angle = rng.uniform(-angleconstraint, angleconstraint, len(sample))\n",
        "    rotated_samples = np.array([rotate(img, angle[i]) for i, img in enumerate(sample)])\n",
        "    return np.squeeze(rotated_samples)\n",
        "\n",
        "# Function for shearing an image by a random amount within a shear constraint\n",
        "def augShear(sample, shearconstraint):\n",
        "    if shearconstraint == 0:\n",
        "        return sample\n",
        "    if len(sample.shape) == 2:\n",
        "        sample = np.expand_dims(sample, 0)\n",
        "    shear_amount = rng.uniform(-shearconstraint, shearconstraint, len(sample))\n",
        "    sheared_samples = np.array([shear(img, shear_amount[i]) for i, img in enumerate(sample)])\n",
        "    return np.squeeze(sheared_samples)\n",
        "\n",
        "# Function for adding Gaussian noise to an image\n",
        "def augNoise(sample, sigma=0.1):\n",
        "    noisy_sample = sample + np.random.normal(0, sigma, sample.shape)\n",
        "    noisy_sample = np.clip(noisy_sample, 0, 1)  # Ensure pixel values remain within [0, 1]\n",
        "    return noisy_sample\n",
        "\n",
        "# Function for horizontally flipping an image\n",
        "def augFlipHorizontal(sample):\n",
        "    return np.fliplr(sample)\n",
        "\n",
        "# Example of using the new augmentations\n",
        "fig, axs = plt.subplots(2, 3, figsize=(15, 10))\n",
        "\n",
        "# Original Image\n",
        "axs[0, 0].imshow(sample, cmap=\"gray\")\n",
        "axs[0, 0].set_title(\"Original Image\")\n",
        "\n",
        "# Augmentation 1: Rotation\n",
        "angleconstraint = 20\n",
        "axs[0, 1].imshow(augRotate(sample, angleconstraint), cmap=\"gray\")\n",
        "axs[0, 1].set_title(f\"Aug. Rotate (+/-{angleconstraint} degrees)\")\n",
        "\n",
        "# Augmentation 2: Shear\n",
        "shearconstraint = 0.2\n",
        "axs[0, 2].imshow(augShear(sample, shearconstraint), cmap=\"gray\")\n",
        "axs[0, 2].set_title(f\"Aug. Shear (+/-{shearconstraint})\")\n",
        "\n",
        "# Augmentation 3: Gaussian Noise\n",
        "axs[1, 0].imshow(augNoise(sample), cmap=\"gray\")\n",
        "axs[1, 0].set_title(\"Aug. Noise\")\n",
        "\n",
        "# Augmentation 4: Horizontal Flip\n",
        "axs[1, 1].imshow(augFlipHorizontal(sample), cmap=\"gray\")\n",
        "axs[1, 1].set_title(\"Aug. Flip Horizontal\")\n",
        "\n",
        "# Augmentation 5: Combination (Rotate + Shear)\n",
        "combined_sample = augShear(augRotate(sample, angleconstraint), shearconstraint)\n",
        "axs[1, 2].imshow(combined_sample, cmap=\"gray\")\n",
        "axs[1, 2].set_title(\"Aug. Rotate + Shear\")\n",
        "\n",
        "plt.tight_layout()\n",
        "plt.show()\n"
      ],
      "metadata": {
        "id": "6fgvcYzaIa22",
        "outputId": "44d430b4-b8f7-4aab-c813-5b05d4776c89",
        "colab": {
          "base_uri": "https://localhost:8080/",
          "height": 621
        }
      },
      "execution_count": 31,
      "outputs": [
        {
          "output_type": "display_data",
          "data": {
            "text/plain": [
              "<Figure size 1500x1000 with 6 Axes>"
            ],
            "image/png": "[encoded data removed]"
          },
          "metadata": {}
        }
      ]
    },
    {
      "cell_type": "code",
      "source": [
        "import numpy as np\n",
        "from skimage.transform import rotate, warp, AffineTransform\n",
        "from scipy.ndimage import gaussian_filter\n",
        "from numpy.random import default_rng\n",
        "\n",
        "rng = default_rng(seed=42)\n",
        "\n",
        "# Function for combined augmentations\n",
        "def combined_augmentations(sample, angle_constraint=20, shear_constraint=0.2, noise_sigma=0.1):\n",
        "    # Rotation\n",
        "    angle = rng.uniform(-angle_constraint, angle_constraint)\n",
        "    rotated = rotate(sample, angle)\n",
        "\n",
        "    # Shear\n",
        "    shear = rng.uniform(-shear_constraint, shear_constraint)\n",
        "    af = AffineTransform(shear=shear)\n",
        "    sheared = warp(rotated, inverse_map=af.inverse)\n",
        "\n",
        "    # Gaussian Noise\n",
        "    noisy = sheared + rng.normal(0, noise_sigma, size=sheared.shape)\n",
        "    noisy = np.clip(noisy, 0, 1)  # Clip values to [0, 1]\n",
        "\n",
        "    # Horizontal Flip\n",
        "    if rng.choice([True, False]):\n",
        "        flipped = np.fliplr(noisy)\n",
        "    else:\n",
        "        flipped = noisy\n",
        "\n",
        "    return flipped\n"
      ],
      "metadata": {
        "id": "_yIdO8qqVAaZ"
      },
      "execution_count": 32,
      "outputs": []
    },
    {
      "cell_type": "code",
      "source": [
        "\n",
        "\n",
        "import numpy as np\n",
        "import tensorflow as tf\n",
        "from tensorflow.keras import layers, models\n",
        "from tensorflow.keras.datasets import mnist\n",
        "from sklearn.utils import shuffle\n",
        "\n",
        "# Load and preprocess MNIST dataset\n",
        "(train_images, train_labels), (test_images, test_labels) = mnist.load_data()\n",
        "train_images = train_images.reshape(-1, 28, 28, 1).astype('float32') / 255.0\n",
        "test_images = test_images.reshape(-1, 28, 28, 1).astype('float32') / 255.0\n",
        "\n",
        "# Combine training and test data for augmentation\n",
        "all_images = np.concatenate([train_images, test_images], axis=0)\n",
        "all_labels = np.concatenate([train_labels, test_labels], axis=0)\n",
        "\n",
        "# Define combined augmentation function\n",
        "def combined_augmentations(sample):\n",
        "    # Implement your combined augmentations here\n",
        "    return sample  # Placeholder for actual augmentation logic\n",
        "\n",
        "# Define CNN model\n",
        "def create_model():\n",
        "    model = models.Sequential([\n",
        "        layers.Conv2D(32, (3, 3), activation='relu', input_shape=(28, 28, 1)),\n",
        "        layers.MaxPooling2D((2, 2)),\n",
        "        layers.Conv2D(64, (3, 3), activation='relu'),\n",
        "        layers.MaxPooling2D((2, 2)),\n",
        "        layers.Flatten(),\n",
        "        layers.Dense(64, activation='relu'),\n",
        "        layers.Dense(10, activation='softmax')\n",
        "    ])\n",
        "    model.compile(optimizer='adam',\n",
        "                  loss='sparse_categorical_crossentropy',\n",
        "                  metrics=['accuracy'])\n",
        "    return model\n",
        "\n",
        "# Function to train and evaluate model\n",
        "def train_and_evaluate(train_images, train_labels, test_images, test_labels, augment_fn, batch_size=32, epochs=5):\n",
        "    model = create_model()\n",
        "    for epoch in range(epochs):\n",
        "        print(f\"Epoch {epoch+1}/{epochs}\")\n",
        "        # Shuffle training data\n",
        "        train_images, train_labels = shuffle(train_images, train_labels)\n",
        "        for i in range(0, len(train_images), batch_size):\n",
        "            batch_images = train_images[i:i+batch_size]\n",
        "            augmented_images = np.array([augment_fn(image) for image in batch_images])\n",
        "            batch_labels = train_labels[i:i+batch_size]\n",
        "            model.train_on_batch(augmented_images, batch_labels)\n",
        "        # Evaluate on test set\n",
        "        test_loss, test_acc = model.evaluate(test_images, test_labels, verbose=0)\n",
        "        print(f\"Test accuracy: {test_acc:.4f}\")\n",
        "\n",
        "# Explore different training dataset sizes and their accuracies\n",
        "for fraction in [1.0, 0.5, 0.25, 0.1, 0.05]:\n",
        "    num_samples = int(len(all_images) * fraction)\n",
        "    # Shuffle indices to get random subset\n",
        "    indices = np.random.permutation(len(all_images))[:num_samples]\n",
        "    subset_images, subset_labels = all_images[indices], all_labels[indices]\n",
        "    print(f\"\\nTraining with {num_samples} samples\")\n",
        "    train_and_evaluate(subset_images, subset_labels, test_images, test_labels, combined_augmentations)\n"
      ],
      "metadata": {
        "id": "qoHvmoNiV8EC",
        "outputId": "68485bb2-7fc1-4bfb-9ff8-21ca95281c5c",
        "colab": {
          "base_uri": "https://localhost:8080/"
        }
      },
      "execution_count": 34,
      "outputs": [
        {
          "output_type": "stream",
          "name": "stdout",
          "text": [
            "\n",
            "Training with 70000 samples\n",
            "Epoch 1/5\n",
            "Test accuracy: 0.9885\n",
            "Epoch 2/5\n",
            "Test accuracy: 0.9940\n",
            "Epoch 3/5\n",
            "Test accuracy: 0.9935\n",
            "Epoch 4/5\n",
            "Test accuracy: 0.9969\n",
            "Epoch 5/5\n",
            "Test accuracy: 0.9981\n",
            "\n",
            "Training with 35000 samples\n",
            "Epoch 1/5\n",
            "Test accuracy: 0.9827\n",
            "Epoch 2/5\n",
            "Test accuracy: 0.9879\n",
            "Epoch 3/5\n",
            "Test accuracy: 0.9856\n",
            "Epoch 4/5\n",
            "Test accuracy: 0.9930\n",
            "Epoch 5/5\n",
            "Test accuracy: 0.9924\n",
            "\n",
            "Training with 17500 samples\n",
            "Epoch 1/5\n",
            "Test accuracy: 0.9700\n",
            "Epoch 2/5\n",
            "Test accuracy: 0.9810\n",
            "Epoch 3/5\n",
            "Test accuracy: 0.9828\n",
            "Epoch 4/5\n",
            "Test accuracy: 0.9858\n",
            "Epoch 5/5\n",
            "Test accuracy: 0.9829\n",
            "\n",
            "Training with 7000 samples\n",
            "Epoch 1/5\n",
            "Test accuracy: 0.9360\n",
            "Epoch 2/5\n",
            "Test accuracy: 0.9676\n",
            "Epoch 3/5\n",
            "Test accuracy: 0.9744\n",
            "Epoch 4/5\n",
            "Test accuracy: 0.9774\n",
            "Epoch 5/5\n",
            "Test accuracy: 0.9818\n",
            "\n",
            "Training with 3500 samples\n",
            "Epoch 1/5\n",
            "Test accuracy: 0.9104\n",
            "Epoch 2/5\n",
            "Test accuracy: 0.9402\n",
            "Epoch 3/5\n",
            "Test accuracy: 0.9588\n",
            "Epoch 4/5\n",
            "Test accuracy: 0.9684\n",
            "Epoch 5/5\n",
            "Test accuracy: 0.9648\n"
          ]
        }
      ]
    },
    {
      "cell_type": "code",
      "source": [
        "import tensorflow as tf\n",
        "from tensorflow.keras import layers, models\n",
        "from tensorflow.keras.datasets import mnist\n",
        "from sklearn.model_selection import train_test_split\n",
        "from sklearn.utils import shuffle\n",
        "\n",
        "# Load and preprocess MNIST dataset\n",
        "(train_images, train_labels), (test_images, test_labels) = mnist.load_data()\n",
        "train_images = train_images.reshape(-1, 28, 28, 1).astype('float32') / 255.0\n",
        "test_images = test_images.reshape(-1, 28, 28, 1).astype('float32') / 255.0\n",
        "\n",
        "# Combine training and test data for augmentation\n",
        "all_images = np.concatenate([train_images, test_images], axis=0)\n",
        "all_labels = np.concatenate([train_labels, test_labels], axis=0)\n",
        "\n",
        "# Define CNN model\n",
        "def create_model():\n",
        "    model = models.Sequential([\n",
        "        layers.Conv2D(32, (3, 3), activation='relu', input_shape=(28, 28, 1)),\n",
        "        layers.MaxPooling2D((2, 2)),\n",
        "        layers.Conv2D(64, (3, 3), activation='relu'),\n",
        "        layers.MaxPooling2D((2, 2)),\n",
        "        layers.Flatten(),\n",
        "        layers.Dense(64, activation='relu'),\n",
        "        layers.Dense(10, activation='softmax')\n",
        "    ])\n",
        "    model.compile(optimizer='adam',\n",
        "                  loss='sparse_categorical_crossentropy',\n",
        "                  metrics=['accuracy'])\n",
        "    return model\n",
        "\n",
        "# Function to train and evaluate model\n",
        "def train_and_evaluate(train_images, train_labels, test_images, test_labels, augment_fn, batch_size=32, epochs=5):\n",
        "    model = create_model()\n",
        "    for epoch in range(epochs):\n",
        "        print(f\"Epoch {epoch+1}/{epochs}\")\n",
        "        # Shuffle training data\n",
        "        train_images, train_labels = shuffle(train_images, train_labels)\n",
        "        for i in range(0, len(train_images), batch_size):\n",
        "            batch_images = train_images[i:i+batch_size]\n",
        "            augmented_images = np.array([augment_fn(image) for image in batch_images])\n",
        "            batch_labels = train_labels[i:i+batch_size]\n",
        "            model.train_on_batch(augmented_images, batch_labels)\n",
        "        # Evaluate on test set\n",
        "        test_loss, test_acc = model.evaluate(test_images, test_labels, verbose=0)\n",
        "        print(f\"Test accuracy: {test_acc:.4f}\")\n",
        "\n",
        "# Explore different training dataset sizes and their accuracies\n",
        "for fraction in [1.0, 0.5, 0.25, 0.1, 0.05]:\n",
        "    num_samples = int(len(all_images) * fraction)\n",
        "    subset_images, subset_labels = shuffle(all_images, all_labels)[:num_samples], all_labels[:num_samples]\n",
        "    print(f\"\\nTraining with {num_samples} samples\")\n",
        "    train_and_evaluate(subset_images, subset_labels, test_images, test_labels, combined_augmentations)\n"
      ],
      "metadata": {
        "id": "Xc6G5GbZZd9a"
      },
      "execution_count": null,
      "outputs": []
    },
    {
      "cell_type": "markdown",
      "source": [
        "combining augmentations like rotation, shear, noise, and flip can improve model robustness and generalization, potentially leading to higher accuracies compared to using no augmentations\n",
        "The smallest dataset size that still yields accuracy above 50% will be determined experimentally. By progressively reducing the number of training samples while keeping the augmentation strategy consistent"
      ],
      "metadata": {
        "id": "FcXVgkq7ZflC"
      }
    },
    {
      "cell_type": "markdown",
      "source": [
        "> Exercise: Try to take 50 images of each digit and calculate the performance on test set."
      ],
      "metadata": {
        "id": "zu590B33-Xp_"
      }
    },
    {
      "cell_type": "code",
      "source": [
        "import numpy as np\n",
        "import tensorflow as tf\n",
        "from tensorflow.keras import layers, models\n",
        "from tensorflow.keras.datasets import mnist\n",
        "\n",
        "# Load MNIST dataset\n",
        "(train_images, train_labels), (test_images, test_labels) = mnist.load_data()\n",
        "\n",
        "# Normalize pixel values to be between 0 and 1\n",
        "train_images = train_images.astype('float32') / 255.0\n",
        "test_images = test_images.astype('float32') / 255.0\n",
        "\n",
        "# Initialize variables to store subset of data\n",
        "selected_train_images = []\n",
        "selected_train_labels = []\n",
        "\n",
        "# Select 50 images for each digit (0-9)\n",
        "num_images_per_digit = 50\n",
        "for digit in range(10):\n",
        "    # Find indices of images corresponding to current digit\n",
        "    indices = np.where(train_labels == digit)[0]\n",
        "    # Randomly shuffle indices to ensure randomness in selection\n",
        "    np.random.shuffle(indices)\n",
        "    # Select first num_images_per_digit images for current digit\n",
        "    selected_indices = indices[:num_images_per_digit]\n",
        "    # Append selected images and labels to the subset\n",
        "    selected_train_images.append(train_images[selected_indices])\n",
        "    selected_train_labels.append(train_labels[selected_indices])\n",
        "\n",
        "# Convert selected data to numpy arrays\n",
        "selected_train_images = np.concatenate(selected_train_images, axis=0)\n",
        "selected_train_labels = np.concatenate(selected_train_labels, axis=0)\n",
        "\n",
        "# Define CNN model architecture\n",
        "def create_model():\n",
        "    model = models.Sequential([\n",
        "        layers.Conv2D(32, (3, 3), activation='relu', input_shape=(28, 28, 1)),\n",
        "        layers.MaxPooling2D((2, 2)),\n",
        "        layers.Conv2D(64, (3, 3), activation='relu'),\n",
        "        layers.MaxPooling2D((2, 2)),\n",
        "        layers.Flatten(),\n",
        "        layers.Dense(64, activation='relu'),\n",
        "        layers.Dense(10, activation='softmax')\n",
        "    ])\n",
        "    model.compile(optimizer='adam',\n",
        "                  loss='sparse_categorical_crossentropy',\n",
        "                  metrics=['accuracy'])\n",
        "    return model\n",
        "\n",
        "# Reshape data for compatibility with CNN\n",
        "selected_train_images = selected_train_images.reshape(-1, 28, 28, 1)\n",
        "test_images = test_images.reshape(-1, 28, 28, 1)\n",
        "\n",
        "# Create and train the model\n",
        "model = create_model()\n",
        "model.fit(selected_train_images, selected_train_labels, epochs=10, batch_size=32, verbose=1)\n",
        "\n",
        "# Evaluate the model on the test set\n",
        "test_loss, test_acc = model.evaluate(test_images, test_labels, verbose=1)\n",
        "print(f\"Test accuracy: {test_acc:.4f}\")\n"
      ],
      "metadata": {
        "id": "S_L8XybxZ66H",
        "outputId": "17b0f0b6-42e5-47a5-fb4e-f518f8736ebf",
        "colab": {
          "base_uri": "https://localhost:8080/"
        }
      },
      "execution_count": 37,
      "outputs": [
        {
          "output_type": "stream",
          "name": "stdout",
          "text": [
            "Epoch 1/10\n",
            "16/16 [==============================] - 2s 41ms/step - loss: 2.0473 - accuracy: 0.3760\n",
            "Epoch 2/10\n",
            "16/16 [==============================] - 1s 51ms/step - loss: 1.0866 - accuracy: 0.6780\n",
            "Epoch 3/10\n",
            "16/16 [==============================] - 0s 25ms/step - loss: 0.5207 - accuracy: 0.8400\n",
            "Epoch 4/10\n",
            "16/16 [==============================] - 0s 25ms/step - loss: 0.3155 - accuracy: 0.9040\n",
            "Epoch 5/10\n",
            "16/16 [==============================] - 0s 25ms/step - loss: 0.2549 - accuracy: 0.9240\n",
            "Epoch 6/10\n",
            "16/16 [==============================] - 0s 24ms/step - loss: 0.1850 - accuracy: 0.9480\n",
            "Epoch 7/10\n",
            "16/16 [==============================] - 0s 24ms/step - loss: 0.1166 - accuracy: 0.9700\n",
            "Epoch 8/10\n",
            "16/16 [==============================] - 1s 40ms/step - loss: 0.1370 - accuracy: 0.9580\n",
            "Epoch 9/10\n",
            "16/16 [==============================] - 1s 41ms/step - loss: 0.0835 - accuracy: 0.9760\n",
            "Epoch 10/10\n",
            "16/16 [==============================] - 1s 39ms/step - loss: 0.0463 - accuracy: 0.9920\n",
            "313/313 [==============================] - 4s 10ms/step - loss: 0.2619 - accuracy: 0.9240\n",
            "Test accuracy: 0.9240\n"
          ]
        }
      ]
    }
  ],
  "metadata": {
    "colab": {
      "provenance": [],
      "include_colab_link": true
    },
    "kernelspec": {
      "display_name": "Python 3",
      "name": "python3"
    },
    "language_info": {
      "codemirror_mode": {
        "name": "ipython",
        "version": 3
      },
      "file_extension": ".py",
      "mimetype": "text/x-python",
      "name": "python",
      "nbconvert_exporter": "python",
      "pygments_lexer": "ipython3",
      "version": "3.10.10"
    }
  },
  "nbformat": 4,
  "nbformat_minor": 0
}